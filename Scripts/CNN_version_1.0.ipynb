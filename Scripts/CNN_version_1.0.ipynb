{
 "cells": [
  {
   "cell_type": "markdown",
   "metadata": {
    "collapsed": true
   },
   "source": [
    "CNN version 1.0\n",
    "=============\n",
    "Using the preprocessed Data\n",
    "------------\n",
    "\n",
    "Previously in `Preprocessing.ipynb`, we filtered various forms of inconsistencies from the data and made it appropriate for using the model.\n",
    "\n",
    "The goal of this noteook is to run a simple CNN here."
   ]
  },
  {
   "cell_type": "code",
   "execution_count": 107,
   "metadata": {
    "collapsed": true
   },
   "outputs": [],
   "source": [
    "# These are all the modules we'll be using later. Make sure you can import them\n",
    "# before proceeding further.\n",
    "from __future__ import print_function\n",
    "import os\n",
    "import numpy as np\n",
    "import tensorflow as tf\n",
    "from six.moves import cPickle as pickle\n",
    "from six.moves import range"
   ]
  },
  {
   "cell_type": "markdown",
   "metadata": {},
   "source": [
    "# Task 1: Load the data from the pickle file"
   ]
  },
  {
   "cell_type": "code",
   "execution_count": 108,
   "metadata": {
    "collapsed": true
   },
   "outputs": [],
   "source": [
    "'''Set the constant paths here'''\n",
    "root = \"../Data\"\n",
    "path = \"../Data/Resized_PreData(100x100)\"\n",
    "ori_path = \"../Data/PreData/\"\n",
    "csv_path = \"../Data/train_info.csv\""
   ]
  },
  {
   "cell_type": "markdown",
   "metadata": {},
   "source": [
    "Retrieve the saved data from the pickle file"
   ]
  },
  {
   "cell_type": "code",
   "execution_count": 109,
   "metadata": {
    "collapsed": false
   },
   "outputs": [],
   "source": [
    "pickle_files_names = (\"PreData.pickle\",)\n",
    "\n",
    "unFormatted_Data = []\n",
    "\n",
    "\n",
    "for Dfile in pickle_files_names:\n",
    "    with open(os.path.join(root, Dfile), \"rb\") as f:\n",
    "        unFormatted_Data.append(pickle.load(f))"
   ]
  },
  {
   "cell_type": "code",
   "execution_count": 110,
   "metadata": {
    "collapsed": false,
    "scrolled": false
   },
   "outputs": [
    {
     "data": {
      "text/plain": [
       "1"
      ]
     },
     "execution_count": 110,
     "metadata": {},
     "output_type": "execute_result"
    }
   ],
   "source": [
    "len(unFormatted_Data)"
   ]
  },
  {
   "cell_type": "code",
   "execution_count": 111,
   "metadata": {
    "collapsed": false
   },
   "outputs": [
    {
     "name": "stdout",
     "output_type": "stream",
     "text": [
      "{'symbolic painting': 17, 'caricature': 2, 'sketch and study': 15, 'mythological painting': 8, 'capriccio': 1, 'genre painting': 4, 'history painting': 5, 'literary painting': 7, 'illustration': 6, 'self-portrait': 14, 'pastorale': 10, 'nude painting (nu)': 9, 'allegorical painting': 0, 'design': 3, 'still life': 16, 'poster': 12, 'portrait': 11, 'religious painting': 13}\n",
      "(180, 100, 100, 3) (26, 100, 100, 3) (52, 100, 100, 3)\n",
      "(180, 20) (26, 20) (52, 20)\n"
     ]
    }
   ],
   "source": [
    "# recollect the fragmented data\n",
    "\n",
    "labels_mappings = unFormatted_Data[0]['label_mapping']\n",
    "print(label_mappings)\n",
    "\n",
    "train_dataSet = unFormatted_Data[0]['train_data']\n",
    "train_labels  = unFormatted_Data[0]['train_labels']\n",
    "\n",
    "cv_dataSet = unFormatted_Data[0]['cv_data']\n",
    "cv_labels = unFormatted_Data[0]['cv_labels']\n",
    "\n",
    "test_dataSet = unFormatted_Data[0]['test_data']\n",
    "test_labels  = unFormatted_Data[0]['test_labels']\n",
    "\n",
    "print(train_dataSet.shape, cv_dataSet.shape, test_dataSet.shape)\n",
    "print(train_labels.shape, cv_labels.shape, test_labels.shape)"
   ]
  },
  {
   "cell_type": "markdown",
   "metadata": {},
   "source": [
    "# Task 2: Spawn the CNN "
   ]
  },
  {
   "cell_type": "code",
   "execution_count": 112,
   "metadata": {
    "collapsed": true
   },
   "outputs": [],
   "source": [
    "# The accuracy function to calculate the accuracy of the classifier\n",
    "\n",
    "def accuracy(predictions, labels):\n",
    "  return (100.0 * np.sum(np.argmax(predictions, 1) == np.argmax(labels, 1))\n",
    "          / predictions.shape[0])"
   ]
  },
  {
   "cell_type": "markdown",
   "metadata": {},
   "source": [
    "define the constants required hence forth:"
   ]
  },
  {
   "cell_type": "code",
   "execution_count": 129,
   "metadata": {
    "collapsed": true
   },
   "outputs": [],
   "source": [
    "batch_size = 16\n",
    "patch_size = 5\n",
    "depth = 16 # number of filters in a layer\n",
    "num_hidden = 128\n",
    "\n",
    "image_size = 100\n",
    "num_labels = 20\n",
    "num_channels = 3 # rgb images"
   ]
  },
  {
   "cell_type": "markdown",
   "metadata": {},
   "source": [
    "### The CNN tensorflow graph "
   ]
  },
  {
   "cell_type": "code",
   "execution_count": 130,
   "metadata": {
    "collapsed": false
   },
   "outputs": [],
   "source": [
    "graph = tf.Graph()\n",
    "\n",
    "with graph.as_default():\n",
    "\n",
    "    # Input data.\n",
    "    tf_train_dataset = tf.placeholder(tf.float32, shape=(batch_size, image_size, image_size, num_channels))\n",
    "    tf_train_labels = tf.placeholder(tf.float32, shape=(batch_size, num_labels))\n",
    "  \n",
    "    tf_valid_dataset = tf.constant(cv_dataSet)\n",
    "    tf_test_dataset = tf.constant(test_dataSet)\n",
    "  \n",
    "    # Variables.\n",
    "    layer1_weights = tf.Variable(tf.truncated_normal([patch_size, patch_size, num_channels, depth], stddev=0.1))\n",
    "    layer1_biases = tf.Variable(tf.zeros([depth]))\n",
    "\n",
    "    layer2_weights = tf.Variable(tf.truncated_normal([patch_size, patch_size, depth, depth], stddev=0.1))\n",
    "    layer2_biases = tf.Variable(tf.constant(1.0, shape=[depth]))\n",
    "  \n",
    "    layer3_weights = tf.Variable(tf.truncated_normal(\n",
    "            [image_size // 4 * image_size // 4 * depth, num_hidden], stddev=0.1))\n",
    "    layer3_biases = tf.Variable(tf.constant(1.0, shape=[num_hidden]))\n",
    "    \n",
    "    layer4_weights = tf.Variable(tf.truncated_normal([num_hidden, num_labels], stddev=0.1))\n",
    "    layer4_biases = tf.Variable(tf.constant(1.0, shape=[num_labels]))\n",
    "  \n",
    "    # Model.\n",
    "    def model(data):\n",
    "        conv = tf.nn.conv2d(data, layer1_weights, [1, 2, 2, 1], padding='SAME')\n",
    "        hidden = tf.nn.relu(conv + layer1_biases)\n",
    "        \n",
    "        conv = tf.nn.conv2d(hidden, layer2_weights, [1, 2, 2, 1], padding='SAME')\n",
    "        hidden = tf.nn.relu(conv + layer2_biases)\n",
    "        \n",
    "        shape = hidden.get_shape().as_list()\n",
    "        reshape = tf.reshape(hidden, [shape[0], shape[1] * shape[2] * shape[3]])\n",
    "        \n",
    "        hidden = tf.nn.relu(tf.matmul(reshape, layer3_weights) + layer3_biases)\n",
    "        return tf.matmul(hidden, layer4_weights) + layer4_biases\n",
    "  \n",
    "    # Training computation.\n",
    "    logits = model(tf_train_dataset)\n",
    "    loss = tf.reduce_mean(tf.nn.softmax_cross_entropy_with_logits(logits, tf_train_labels))\n",
    "    \n",
    "    # Optimizer.\n",
    "    optimizer = tf.train.GradientDescentOptimizer(0.05).minimize(loss)\n",
    "  \n",
    "    # Predictions for the training, validation, and test data.\n",
    "    train_prediction = tf.nn.softmax(logits)\n",
    "    validation_prediction = tf.nn.softmax(model(tf_valid_dataset))"
   ]
  },
  {
   "cell_type": "code",
   "execution_count": 131,
   "metadata": {
    "collapsed": false
   },
   "outputs": [
    {
     "name": "stdout",
     "output_type": "stream",
     "text": [
      "Initialized\n",
      "Minibatch loss at step 0: 3.407605\n",
      "Minibatch accuracy: 18.8%\n",
      "Minibatch loss at step 50: 2.240751\n",
      "Minibatch accuracy: 50.0%\n",
      "Minibatch loss at step 100: 1.460077\n",
      "Minibatch accuracy: 56.2%\n",
      "Minibatch loss at step 150: 2.193918\n",
      "Minibatch accuracy: 43.8%\n",
      "Minibatch loss at step 200: 1.938498\n",
      "Minibatch accuracy: 43.8%\n",
      "Minibatch loss at step 250: 1.727551\n",
      "Minibatch accuracy: 50.0%\n",
      "Minibatch loss at step 300: 0.483191\n",
      "Minibatch accuracy: 81.2%\n",
      "Minibatch loss at step 350: 0.650792\n",
      "Minibatch accuracy: 75.0%\n",
      "Minibatch loss at step 400: 0.285093\n",
      "Minibatch accuracy: 87.5%\n",
      "Minibatch loss at step 450: 0.177352\n",
      "Minibatch accuracy: 100.0%\n",
      "Minibatch loss at step 500: 0.120597\n",
      "Minibatch accuracy: 100.0%\n",
      "Minibatch loss at step 550: 0.359475\n",
      "Minibatch accuracy: 87.5%\n",
      "Minibatch loss at step 600: 0.010564\n",
      "Minibatch accuracy: 100.0%\n",
      "Minibatch loss at step 650: 0.004155\n",
      "Minibatch accuracy: 100.0%\n",
      "Minibatch loss at step 700: 0.002463\n",
      "Minibatch accuracy: 100.0%\n",
      "Minibatch loss at step 750: 0.011141\n",
      "Minibatch accuracy: 100.0%\n",
      "Minibatch loss at step 800: 0.005892\n",
      "Minibatch accuracy: 100.0%\n",
      "Minibatch loss at step 850: 0.001079\n",
      "Minibatch accuracy: 100.0%\n",
      "Minibatch loss at step 900: 0.001004\n",
      "Minibatch accuracy: 100.0%\n",
      "Minibatch loss at step 950: 0.031254\n",
      "Minibatch accuracy: 100.0%\n",
      "Minibatch loss at step 1000: 0.090776\n",
      "Minibatch accuracy: 93.8%\n",
      "Cross_Validation accuracy: 19.2%\n"
     ]
    }
   ],
   "source": [
    "num_steps = 1001\n",
    "\n",
    "with tf.Session(graph=graph) as session:\n",
    "    tf.initialize_all_variables().run()\n",
    "    print('Initialized')\n",
    "  \n",
    "    for step in range(num_steps):\n",
    "        offset = (step * batch_size) % (train_labels.shape[0] - batch_size)\n",
    "        batch_data = train_dataSet[offset:(offset + batch_size), :, :, :]\n",
    "        batch_labels = train_labels[offset:(offset + batch_size), :]\n",
    "        \n",
    "        feed_dict = {tf_train_dataset : batch_data, tf_train_labels : batch_labels}\n",
    "        _, l, predictions = session.run([optimizer, loss, train_prediction], feed_dict=feed_dict)\n",
    "    \n",
    "        if (step % 50 == 0):\n",
    "            print('Minibatch loss at step %d: %f' % (step, l))\n",
    "            print('Minibatch accuracy: %.1f%%' % accuracy(predictions, batch_labels))\n",
    "    \n",
    "    print('Cross_Validation accuracy: %.1f%%' % accuracy(validation_prediction.eval(), cv_labels))"
   ]
  },
  {
   "cell_type": "code",
   "execution_count": null,
   "metadata": {
    "collapsed": true
   },
   "outputs": [],
   "source": []
  }
 ],
 "metadata": {
  "kernelspec": {
   "display_name": "Python [Root]",
   "language": "python",
   "name": "Python [Root]"
  },
  "language_info": {
   "codemirror_mode": {
    "name": "ipython",
    "version": 2
   },
   "file_extension": ".py",
   "mimetype": "text/x-python",
   "name": "python",
   "nbconvert_exporter": "python",
   "pygments_lexer": "ipython2",
   "version": "2.7.12"
  }
 },
 "nbformat": 4,
 "nbformat_minor": 0
}
