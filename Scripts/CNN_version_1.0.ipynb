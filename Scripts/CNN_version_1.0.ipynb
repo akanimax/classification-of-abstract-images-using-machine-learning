{
 "cells": [
  {
   "cell_type": "markdown",
   "metadata": {
    "collapsed": true
   },
   "source": [
    "CNN version 1.0\n",
    "=============\n",
    "Using the preprocessed Data\n",
    "------------\n",
    "\n",
    "Previously in `Preprocessing.ipynb`, we filtered various forms of inconsistencies from the data and made it appropriate for using the model.\n",
    "\n",
    "The goal of this noteook is to run a simple CNN here."
   ]
  },
  {
   "cell_type": "code",
   "execution_count": 1,
   "metadata": {
    "collapsed": true
   },
   "outputs": [],
   "source": [
    "# These are all the modules we'll be using later. Make sure you can import them\n",
    "# before proceeding further.\n",
    "from __future__ import print_function\n",
    "import os\n",
    "import numpy as np\n",
    "import tensorflow as tf\n",
    "from six.moves import cPickle as pickle\n",
    "from six.moves import range"
   ]
  },
  {
   "cell_type": "markdown",
   "metadata": {},
   "source": [
    "# Task 1: Load the data from the pickle file"
   ]
  },
  {
   "cell_type": "code",
   "execution_count": 10,
   "metadata": {
    "collapsed": true
   },
   "outputs": [],
   "source": [
    "'''Set the constant paths here'''\n",
    "root = \"../Data\"\n",
    "path = \"../Data/Resized_final_data\"\n",
    "csv_path = \"../Data/train_info.csv\"\n",
    "model_save_path = \"../saved_models/\""
   ]
  },
  {
   "cell_type": "markdown",
   "metadata": {},
   "source": [
    "Retrieve the saved data from the pickle file"
   ]
  },
  {
   "cell_type": "code",
   "execution_count": 3,
   "metadata": {
    "collapsed": false,
    "scrolled": true
   },
   "outputs": [],
   "source": [
    "pickle_files_names = (\"Data_final.pickle\",)\n",
    "\n",
    "Formatted_Data = []\n",
    "\n",
    "\n",
    "for Dfile in pickle_files_names:\n",
    "    with open(os.path.join(root, Dfile), \"rb\") as f:\n",
    "        Formatted_Data.append(pickle.load(f))"
   ]
  },
  {
   "cell_type": "code",
   "execution_count": 4,
   "metadata": {
    "collapsed": false,
    "scrolled": false
   },
   "outputs": [
    {
     "data": {
      "text/plain": [
       "1"
      ]
     },
     "execution_count": 4,
     "metadata": {},
     "output_type": "execute_result"
    }
   ],
   "source": [
    "len(Formatted_Data)"
   ]
  },
  {
   "cell_type": "code",
   "execution_count": 5,
   "metadata": {
    "collapsed": false
   },
   "outputs": [
    {
     "name": "stdout",
     "output_type": "stream",
     "text": [
      "{'capriccio': 8, 'abstract': 0, 'history painting': 16, 'marina': 21, 'design': 12, 'quadratura': 29, 'portrait': 27, 'landscape': 19, 'symbolic painting': 35, 'allegorical painting': 2, 'miniature': 22, 'sketch and study': 33, 'panorama': 25, 'animal painting': 3, 'nude painting (nu)': 24, 'bijinga': 5, 'flower painting': 14, 'battle painting': 4, 'genre painting': 15, 'interior': 18, 'cloudscape': 11, 'mythological painting': 23, 'poster': 28, 'shan shui': 32, 'yakusha-e': 40, 'literary painting': 20, 'illustration': 17, 'caricature': 9, 'advertisement': 1, 'cityscape': 10, 'calligraphy': 7, 'religious painting': 30, 'bird-and-flower painting': 6, 'tessellation': 36, 'pastorale': 26, 'still life': 34, 'figurative': 13, 'self-portrait': 31, 'veduta': 38, 'vanitas': 37, 'wildlife painting': 39}\n",
      "(17576, 100, 100, 3) (2511, 100, 100, 3) (5022, 100, 100, 3)\n",
      "(17576, 41) (2511, 41) (5022, 41)\n"
     ]
    }
   ],
   "source": [
    "# recollect the fragmented data\n",
    "\n",
    "labels_mappings = Formatted_Data[0]['label_mapping']\n",
    "print(labels_mappings)\n",
    "\n",
    "train_dataSet = Formatted_Data[0]['train_data']\n",
    "train_labels  = Formatted_Data[0]['train_labels']\n",
    "\n",
    "cv_dataSet = Formatted_Data[0]['cv_data']\n",
    "cv_labels = Formatted_Data[0]['cv_labels']\n",
    "\n",
    "test_dataSet = Formatted_Data[0]['test_data']\n",
    "test_labels  = Formatted_Data[0]['test_labels']\n",
    "\n",
    "print(train_dataSet.shape, cv_dataSet.shape, test_dataSet.shape)\n",
    "print(train_labels.shape, cv_labels.shape, test_labels.shape)"
   ]
  },
  {
   "cell_type": "markdown",
   "metadata": {},
   "source": [
    "# Task 2: Spawn the CNN "
   ]
  },
  {
   "cell_type": "code",
   "execution_count": 6,
   "metadata": {
    "collapsed": true
   },
   "outputs": [],
   "source": [
    "# The accuracy function to calculate the accuracy of the classifier\n",
    "\n",
    "def accuracy(predictions, labels):\n",
    "  return (100.0 * np.sum(np.argmax(predictions, 1) == np.argmax(labels, 1))\n",
    "          / predictions.shape[0])"
   ]
  },
  {
   "cell_type": "markdown",
   "metadata": {},
   "source": [
    "define the constants required hence forth:"
   ]
  },
  {
   "cell_type": "code",
   "execution_count": 7,
   "metadata": {
    "collapsed": true
   },
   "outputs": [],
   "source": [
    "batch_size = 16\n",
    "patch_size = 5\n",
    "depth = 16 # number of filters in a layer\n",
    "num_hidden = 256\n",
    "\n",
    "image_size = 100\n",
    "num_labels = 41\n",
    "num_channels = 3 # rgb images"
   ]
  },
  {
   "cell_type": "markdown",
   "metadata": {},
   "source": [
    "### The CNN tensorflow graph "
   ]
  },
  {
   "cell_type": "code",
   "execution_count": 8,
   "metadata": {
    "collapsed": false
   },
   "outputs": [],
   "source": [
    "graph = tf.Graph()\n",
    "\n",
    "with graph.as_default():\n",
    "\n",
    "    # Input data.\n",
    "    tf_train_dataset = tf.placeholder(tf.float32, shape=(batch_size, image_size, image_size, num_channels))\n",
    "    tf_train_labels = tf.placeholder(tf.float32, shape=(batch_size, num_labels))\n",
    "  \n",
    "    tf_valid_dataset = tf.constant(cv_dataSet)\n",
    "    tf_test_dataset = tf.constant(test_dataSet)\n",
    "  \n",
    "    # Variables.\n",
    "    layer1_weights = tf.Variable(tf.truncated_normal([patch_size, patch_size, num_channels, 128], stddev=0.1))\n",
    "    layer1_biases = tf.Variable(tf.zeros([128]))\n",
    "\n",
    "    layer2_weights = tf.Variable(tf.truncated_normal([patch_size, patch_size, 128, 64], stddev=0.1))\n",
    "    layer2_biases = tf.Variable(tf.constant(1.0, shape=[64]))\n",
    "    \n",
    "    layer3_weights = tf.Variable(tf.truncated_normal([patch_size, patch_size, 64, 32], stddev=0.1))\n",
    "    layer3_biases = tf.Variable(tf.constant(1.0, shape=[32]))\n",
    "    \n",
    "    layer4_weights = tf.Variable(tf.truncated_normal([patch_size, patch_size, 32, 16], stddev=0.1))\n",
    "    layer4_biases = tf.Variable(tf.constant(1.0, shape=[16]))\n",
    "  \n",
    "    layer5_weights = tf.Variable(tf.truncated_normal([image_size * image_size * 16, num_hidden], stddev=0.1))\n",
    "    layer5_biases = tf.Variable(tf.constant(1.0, shape=[num_hidden]))\n",
    "    \n",
    "    layer6_weights = tf.Variable(tf.truncated_normal([num_hidden, num_labels], stddev=0.1))\n",
    "    layer6_biases = tf.Variable(tf.constant(1.0, shape=[num_labels]))\n",
    "  \n",
    "    # Model.\n",
    "    def model(data):\n",
    "        conv = tf.nn.conv2d(data, layer1_weights, [1, 1, 1, 1], padding='SAME')\n",
    "        hidden = tf.nn.relu(conv + layer1_biases)\n",
    "        \n",
    "        conv = tf.nn.conv2d(hidden, layer2_weights, [1, 1, 1, 1], padding='SAME')\n",
    "        hidden = tf.nn.relu(conv + layer2_biases)\n",
    "        \n",
    "        conv = tf.nn.conv2d(hidden, layer3_weights, [1, 1, 1, 1], padding='SAME')\n",
    "        hidden = tf.nn.relu(conv + layer3_biases)\n",
    "        \n",
    "        conv = tf.nn.conv2d(hidden, layer4_weights, [1, 1, 1, 1], padding='SAME')\n",
    "        hidden = tf.nn.relu(conv + layer4_biases)\n",
    "        \n",
    "        shape = hidden.get_shape().as_list()\n",
    "        reshape = tf.reshape(hidden, [shape[0], shape[1] * shape[2] * shape[3]])\n",
    "        \n",
    "        hidden = tf.nn.relu(tf.matmul(reshape, layer5_weights) + layer5_biases)\n",
    "        return tf.matmul(hidden, layer6_weights) + layer6_biases\n",
    "  \n",
    "    # Training computation.\n",
    "    logits = model(tf_train_dataset)\n",
    "    loss = tf.reduce_mean(tf.nn.softmax_cross_entropy_with_logits(logits, tf_train_labels))\n",
    "    \n",
    "    # Optimizer.\n",
    "    optimizer = tf.train.GradientDescentOptimizer(0.05).minimize(loss)\n",
    "  \n",
    "    # Predictions for the training, validation, and test data.\n",
    "    train_prediction = tf.nn.softmax(logits)\n",
    "    validation_prediction = tf.nn.softmax(model(tf_valid_dataset))"
   ]
  },
  {
   "cell_type": "code",
   "execution_count": 13,
   "metadata": {
    "collapsed": false
   },
   "outputs": [
    {
     "name": "stdout",
     "output_type": "stream",
     "text": [
      "Initialized\n",
      "Minibatch loss at step 0: 520.253723\n",
      "Minibatch accuracy: 0.0%\n",
      "Minibatch loss at step 50: 3.528938\n",
      "Minibatch accuracy: 25.0%\n",
      "Minibatch loss at step 100: 3.438213\n",
      "Minibatch accuracy: 6.2%\n",
      "Minibatch loss at step 150: 3.207769\n",
      "Minibatch accuracy: 12.5%\n",
      "Minibatch loss at step 200: 3.211210\n",
      "Minibatch accuracy: 25.0%\n",
      "Minibatch loss at step 250: 3.372332\n",
      "Minibatch accuracy: 0.0%\n",
      "Minibatch loss at step 300: 2.998432\n",
      "Minibatch accuracy: 25.0%\n",
      "Minibatch loss at step 350: 2.908485\n",
      "Minibatch accuracy: 12.5%\n",
      "Minibatch loss at step 400: 3.194774\n",
      "Minibatch accuracy: 12.5%\n",
      "Minibatch loss at step 450: 2.650635\n",
      "Minibatch accuracy: 25.0%\n",
      "Minibatch loss at step 500: 2.926214\n",
      "Minibatch accuracy: 0.0%\n",
      "Saved at:  ../saved_models/model_1.0/model1\n"
     ]
    }
   ],
   "source": [
    "num_steps = 501\n",
    "\n",
    "with tf.Session(graph=graph) as session:\n",
    "    tf.global_variables_initializer().run()\n",
    "    print('Initialized')\n",
    "  \n",
    "    for step in range(num_steps):\n",
    "        offset = (step * batch_size) % (train_labels.shape[0] - batch_size)\n",
    "        batch_data = train_dataSet[offset:(offset + batch_size), :, :, :]\n",
    "        batch_labels = train_labels[offset:(offset + batch_size), :]\n",
    "        \n",
    "        feed_dict = {tf_train_dataset : batch_data, tf_train_labels : batch_labels}\n",
    "        _, l, predictions = session.run([optimizer, loss, train_prediction], feed_dict=feed_dict)\n",
    "    \n",
    "        if (step % 50 == 0):\n",
    "            print('Minibatch loss at step %d: %f' % (step, l))\n",
    "            print('Minibatch accuracy: %.1f%%' % accuracy(predictions, batch_labels))\n",
    "    \n",
    "    saver = tf.train.Saver()\n",
    "    print(\"Saved at: \", saver.save(session, os.path.join(model_save_path, \"model_1.0/model1\")))"
   ]
  },
  {
   "cell_type": "code",
   "execution_count": null,
   "metadata": {
    "collapsed": true
   },
   "outputs": [],
   "source": []
  }
 ],
 "metadata": {
  "anaconda-cloud": {},
  "kernelspec": {
   "display_name": "Python [conda root]",
   "language": "python",
   "name": "conda-root-py"
  },
  "language_info": {
   "codemirror_mode": {
    "name": "ipython",
    "version": 2
   },
   "file_extension": ".py",
   "mimetype": "text/x-python",
   "name": "python",
   "nbconvert_exporter": "python",
   "pygments_lexer": "ipython2",
   "version": "2.7.12"
  }
 },
 "nbformat": 4,
 "nbformat_minor": 0
}
