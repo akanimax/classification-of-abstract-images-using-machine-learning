{
 "cells": [
  {
   "cell_type": "markdown",
   "metadata": {},
   "source": [
    "CNN version 2.0\n",
    "=============\n",
    "Using the preprocessed Data\n",
    "------------\n",
    "\n",
    "Building upon the previous cnn version. \n",
    "\n",
    "This notebook uses a more sophisticated and a deeper cnn than the previous"
   ]
  },
  {
   "cell_type": "code",
   "execution_count": 1,
   "metadata": {
    "collapsed": true
   },
   "outputs": [],
   "source": [
    "# These are all the modules we'll be using later. Make sure you can import them\n",
    "# before proceeding further.\n",
    "from __future__ import print_function\n",
    "import os\n",
    "import numpy as np\n",
    "import tensorflow as tf\n",
    "from six.moves import cPickle as pickle\n",
    "from six.moves import range"
   ]
  },
  {
   "cell_type": "markdown",
   "metadata": {},
   "source": [
    "# Task 1: Load the data from the pickle file"
   ]
  },
  {
   "cell_type": "code",
   "execution_count": 2,
   "metadata": {
    "collapsed": true
   },
   "outputs": [],
   "source": [
    "'''Set the constant paths here'''\n",
    "root = \"../Data\"\n",
    "path = \"../Data/Resized_final_data\"\n",
    "csv_path = \"../Data/train_info.csv\""
   ]
  },
  {
   "cell_type": "markdown",
   "metadata": {},
   "source": [
    "Retrieve the saved data from the pickle file"
   ]
  },
  {
   "cell_type": "code",
   "execution_count": 3,
   "metadata": {
    "collapsed": true
   },
   "outputs": [],
   "source": [
    "pickle_files_names = (\"Data_final.pickle\",)\n",
    "\n",
    "Formatted_Data = []\n",
    "\n",
    "\n",
    "for Dfile in pickle_files_names:\n",
    "    with open(os.path.join(root, Dfile), \"rb\") as f:\n",
    "        Formatted_Data.append(pickle.load(f))"
   ]
  },
  {
   "cell_type": "code",
   "execution_count": 4,
   "metadata": {
    "collapsed": false
   },
   "outputs": [
    {
     "data": {
      "text/plain": [
       "1"
      ]
     },
     "execution_count": 4,
     "metadata": {},
     "output_type": "execute_result"
    }
   ],
   "source": [
    "len(Formatted_Data)"
   ]
  },
  {
   "cell_type": "code",
   "execution_count": 5,
   "metadata": {
    "collapsed": false
   },
   "outputs": [
    {
     "name": "stdout",
     "output_type": "stream",
     "text": [
      "{'capriccio': 8, 'abstract': 0, 'history painting': 16, 'marina': 21, 'design': 12, 'quadratura': 29, 'portrait': 27, 'landscape': 19, 'symbolic painting': 35, 'allegorical painting': 2, 'miniature': 22, 'sketch and study': 33, 'panorama': 25, 'animal painting': 3, 'nude painting (nu)': 24, 'bijinga': 5, 'flower painting': 14, 'battle painting': 4, 'genre painting': 15, 'interior': 18, 'cloudscape': 11, 'mythological painting': 23, 'poster': 28, 'shan shui': 32, 'yakusha-e': 40, 'literary painting': 20, 'illustration': 17, 'caricature': 9, 'advertisement': 1, 'cityscape': 10, 'calligraphy': 7, 'religious painting': 30, 'bird-and-flower painting': 6, 'tessellation': 36, 'pastorale': 26, 'still life': 34, 'figurative': 13, 'self-portrait': 31, 'veduta': 38, 'vanitas': 37, 'wildlife painting': 39}\n",
      "(17576, 100, 100, 3) (2511, 100, 100, 3) (5022, 100, 100, 3)\n",
      "(17576, 41) (2511, 41) (5022, 41)\n"
     ]
    }
   ],
   "source": [
    "# recollect the fragmented data\n",
    "\n",
    "labels_mappings = Formatted_Data[0]['label_mapping']\n",
    "print(labels_mappings)\n",
    "\n",
    "train_dataSet = Formatted_Data[0]['train_data']\n",
    "train_labels  = Formatted_Data[0]['train_labels']\n",
    "\n",
    "cv_dataSet = Formatted_Data[0]['cv_data']\n",
    "cv_labels = Formatted_Data[0]['cv_labels']\n",
    "\n",
    "test_dataSet = Formatted_Data[0]['test_data']\n",
    "test_labels  = Formatted_Data[0]['test_labels']\n",
    "\n",
    "print(train_dataSet.shape, cv_dataSet.shape, test_dataSet.shape)\n",
    "print(train_labels.shape, cv_labels.shape, test_labels.shape)"
   ]
  },
  {
   "cell_type": "code",
   "execution_count": null,
   "metadata": {
    "collapsed": true
   },
   "outputs": [],
   "source": [
    "    "
   ]
  }
 ],
 "metadata": {
  "anaconda-cloud": {},
  "kernelspec": {
   "display_name": "Python [default]",
   "language": "python",
   "name": "python2"
  },
  "language_info": {
   "codemirror_mode": {
    "name": "ipython",
    "version": 2
   },
   "file_extension": ".py",
   "mimetype": "text/x-python",
   "name": "python",
   "nbconvert_exporter": "python",
   "pygments_lexer": "ipython2",
   "version": "2.7.12"
  }
 },
 "nbformat": 4,
 "nbformat_minor": 1
}
