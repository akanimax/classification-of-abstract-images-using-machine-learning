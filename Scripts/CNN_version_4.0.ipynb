{
 "cells": [
  {
   "cell_type": "markdown",
   "metadata": {},
   "source": [
    "CNN version 4.0\n",
    "=============\n",
    "Using the preprocessed Data\n",
    "------------\n",
    "\n",
    "Building upon the previous cnn version. \n",
    "\n",
    "This notebook uses a more sophisticated and a deeper cnn than the previous.\n",
    "Use of TensorBoard for visualization"
   ]
  },
  {
   "cell_type": "code",
   "execution_count": 17,
   "metadata": {
    "collapsed": true
   },
   "outputs": [],
   "source": [
    "# These are all the modules we'll be using later. Make sure you can import them\n",
    "# before proceeding further.\n",
    "from __future__ import print_function\n",
    "import os\n",
    "import numpy as np\n",
    "import tensorflow as tf\n",
    "from six.moves import cPickle as pickle\n",
    "from six.moves import range"
   ]
  },
  {
   "cell_type": "markdown",
   "metadata": {},
   "source": [
    "# Task 1: Load the data from the pickle file"
   ]
  },
  {
   "cell_type": "code",
   "execution_count": 18,
   "metadata": {
    "collapsed": true
   },
   "outputs": [],
   "source": [
    "'''Set the constant paths here'''\n",
    "# set the paths required for the script to work:\n",
    "root = \"../Data/\"\n",
    "pickle_file_path = root + \"Data_pindown.pickle\"\n",
    "log_path = root + \".logs\""
   ]
  },
  {
   "cell_type": "markdown",
   "metadata": {},
   "source": [
    "Retrieve the saved data from the pickle file"
   ]
  },
  {
   "cell_type": "code",
   "execution_count": 19,
   "metadata": {
    "collapsed": true
   },
   "outputs": [],
   "source": [
    "Formatted_Data = {}\n",
    "with open(pickle_file_path, \"rb\") as f:\n",
    "    Formatted_Data = pickle.load(f)"
   ]
  },
  {
   "cell_type": "code",
   "execution_count": 20,
   "metadata": {
    "collapsed": false
   },
   "outputs": [
    {
     "data": {
      "text/plain": [
       "7"
      ]
     },
     "execution_count": 20,
     "metadata": {},
     "output_type": "execute_result"
    }
   ],
   "source": [
    "len(Formatted_Data)"
   ]
  },
  {
   "cell_type": "code",
   "execution_count": 21,
   "metadata": {
    "collapsed": false,
    "scrolled": true
   },
   "outputs": [
    {
     "name": "stdout",
     "output_type": "stream",
     "text": [
      "{'Action-Painting': 0, 'Colour-Field-Painting': 1, 'Surreal-Surrealism': 8, 'art--Expressionism': 9, 'Op-Art': 6, 'Hard-Edge-Art': 3, 'ORPHISM': 5, 'Post-impressionism': 7, 'Minimalism-Art': 4, 'Cubism': 2}\n",
      "(1927, 100, 100, 3) (276, 100, 100, 3) (551, 100, 100, 3)\n",
      "(1927, 10) (276, 10) (551, 10)\n"
     ]
    }
   ],
   "source": [
    "# recollect the fragmented data\n",
    "\n",
    "labels_mappings = Formatted_Data['label_mapping']\n",
    "print(labels_mappings)\n",
    "\n",
    "train_dataSet = Formatted_Data['train_data']\n",
    "train_labels  = Formatted_Data['train_labels']\n",
    "\n",
    "cv_dataSet = Formatted_Data['cv_data']\n",
    "cv_labels = Formatted_Data['cv_labels']\n",
    "\n",
    "test_dataSet = Formatted_Data['test_data']\n",
    "test_labels  = Formatted_Data['test_labels']\n",
    "\n",
    "print(train_dataSet.shape, cv_dataSet.shape, test_dataSet.shape)\n",
    "print(train_labels.shape, cv_labels.shape, test_labels.shape)"
   ]
  },
  {
   "cell_type": "markdown",
   "metadata": {
    "collapsed": true
   },
   "source": [
    "# Task 2: Spawn the CNN "
   ]
  },
  {
   "cell_type": "code",
   "execution_count": 22,
   "metadata": {
    "collapsed": true
   },
   "outputs": [],
   "source": [
    "# The accuracy function to calculate the accuracy of the classifier\n",
    "\n",
    "def accuracy(predictions, labels):\n",
    "    return (100.0 * np.sum(np.argmax(predictions, 1) == np.argmax(labels, 1)) / predictions.shape[0])"
   ]
  },
  {
   "cell_type": "code",
   "execution_count": 23,
   "metadata": {
    "collapsed": false
   },
   "outputs": [],
   "source": [
    "# define the constants required hence forth:\n",
    "batch_size = 500\n",
    "patch_size = 5\n",
    "num_hidden = 256\n",
    "\n",
    "image_size = train_dataSet.shape[1]\n",
    "num_labels = len(labels_mappings)\n",
    "num_channels = 3 # rgb images"
   ]
  },
  {
   "cell_type": "markdown",
   "metadata": {},
   "source": [
    "### The CNN tensorflow graph "
   ]
  },
  {
   "cell_type": "code",
   "execution_count": 24,
   "metadata": {
    "collapsed": true
   },
   "outputs": [],
   "source": [
    "'''Functions required for setting up the convolution and pooling layers of the neural network'''\n",
    "\n",
    "def weightVariable(shape, Wname=\"W\"):\n",
    "    initial = tf.truncated_normal(shape, stddev = 0.1)\n",
    "    return tf.Variable(initial, name=Wname)\n",
    "        \n",
    "def biasVariable(shape, Bname=\"B\"):    \n",
    "    initial = tf.zeros(shape)\n",
    "    return tf.Variable(initial, name=Bname)\n",
    "        \n",
    "def addConvLayer(inp, shape, act_fun=tf.nn.relu):\n",
    "    with tf.name_scope(\"Conv_Layer\"):\n",
    "        with tf.name_scope(\"Parameters\"):\n",
    "            # create the weight variable:\n",
    "            layer_weight = weightVariable(shape, Wname=\"Filters\")\n",
    "\n",
    "            # create bias variable:\n",
    "            layer_bias = biasVariable([shape[-1]], Bname=\"Filter_biases\")\n",
    "\n",
    "        return act_fun(tf.nn.conv2d(inp, layer_weight, [1, 1, 1, 1], padding=\"SAME\") + layer_bias)\n",
    "    \n",
    "def addPoolLayer(inp, kernel, stride):\n",
    "    return tf.nn.max_pool(inp, ksize=kernel, strides=stride, padding='SAME')\n",
    "    \n",
    "def addFCLayer(inp, shape, act_fun=tf.nn.relu):\n",
    "    with tf.name_scope(\"Fully_Connected_Layer\"):\n",
    "        layer_weight = weightVariable(shape)\n",
    "        layer_bias = biasVariable([shape[-1]])\n",
    "\n",
    "        if(act_fun == None): \n",
    "            return tf.matmul(inp, layer_weight) + layer_bias\n",
    "        # else:\n",
    "        return act_fun(tf.matmul(inp, layer_weight) + layer_bias)"
   ]
  },
  {
   "cell_type": "code",
   "execution_count": 37,
   "metadata": {
    "collapsed": false
   },
   "outputs": [],
   "source": [
    "graph = tf.Graph()\n",
    "\n",
    "''' Neural network name: BotNet\n",
    "    Size: medium\n",
    "    conf: conv => conv => pool => conv => pool => fc => fc => softmax'''\n",
    "\n",
    "with graph.as_default():\n",
    "    \n",
    "    # Input data.\n",
    "    with tf.name_scope(\"INPUTS\"):\n",
    "        tf_train_dataset = tf.placeholder(tf.float32, shape=(batch_size, image_size, image_size, num_channels), name=\"Data\")\n",
    "        tf_train_labels = tf.placeholder(tf.float32, shape=(batch_size, num_labels), name=\"Labels\")\n",
    "\n",
    "        tf_valid_dataset = tf.constant(cv_dataSet, name=\"cross_validation_dataset\")\n",
    "        tf_test_dataset = tf.constant(test_dataSet, name=\"test_dataset\")\n",
    "  \n",
    "    # Model.\n",
    "    def model(data):\n",
    "        # CONV LAYER\n",
    "        # layer has 8 (3 x 3) convoluting filters\n",
    "        layer1_1 = addConvLayer(data, [patch_size, patch_size, num_channels, 8], tf.nn.sigmoid)\n",
    "    \n",
    "        \n",
    "        # CONV LAYER  \n",
    "        # layer has 12 (3 x 3) convoluting filters\n",
    "        layer2_1 = addConvLayer(layer1_1, [patch_size, patch_size, 8, 12], tf.nn.sigmoid)\n",
    "    \n",
    "    \n",
    "        # CONV LAYER\n",
    "        # layer has 16 (3 x 3) convoluting filters\n",
    "        layer3_1 = addConvLayer(layer2_1, [patch_size, patch_size, 12, 16], tf.nn.sigmoid)\n",
    "    \n",
    "        \n",
    "        # POOL LAYER\n",
    "        # will not require any data variable or parameter holder\n",
    "        # a simple 2 x 2 max_pooling operation\n",
    "        layer4_1 = addPoolLayer(layer3_1, [1, 2, 2, 1], [1, 2, 2, 1])\n",
    "        \n",
    "        # CONV LAYER\n",
    "        # layer has 20 (3 x 3) convoluting filters\n",
    "        layer5_1 = addConvLayer(layer4_1, [patch_size, patch_size, 16, 20], tf.nn.sigmoid)\n",
    "        \n",
    "        # FC LAYER\n",
    "        # input dimension will be: 8 * 8 * 32\n",
    "        # length, width calculation: 32 =first pool=> 16 =second pool=> 8\n",
    "        # depth calculation: 32 ...(same as the last conv output)\n",
    "        # output dimension: 128 ...(equal to number of hidden cells)\n",
    "        # number of hidden cells: 128\n",
    "        # reshape the tensor before passing it to the FC layers\n",
    "        shape = layer5_1.get_shape().as_list()\n",
    "        reshape = tf.reshape(layer5_1, [shape[0], shape[1] * shape[2] * shape[3]])\n",
    "        layer6_1 = addFCLayer(reshape, [shape[1] * shape[2] * shape[3], num_hidden], tf.nn.sigmoid)\n",
    "        \n",
    "        # FC LAYER\n",
    "        # input dimension will be: 256\n",
    "        # output dimension will be: 256\n",
    "        # number of hidden cells: 256\n",
    "        layer7_1 = addFCLayer(layer6_1, [num_hidden, num_hidden], tf.nn.sigmoid)\n",
    "        \n",
    "        # Fianl output layer for the neural network\n",
    "        layer8_1 = addFCLayer(layer7_1, [num_hidden, num_labels], tf.nn.sigmoid)\n",
    "        \n",
    "        return layer8_1\n",
    "  \n",
    "    # Training computation.\n",
    "    logits = model(tf_train_dataset)\n",
    "    \n",
    "    with tf.name_scope(\"Loss\"):\n",
    "        loss = tf.reduce_mean(tf.nn.softmax_cross_entropy_with_logits(logits, tf_train_labels))\n",
    "        tf.scalar_summary(\"loss\", loss)\n",
    "        \n",
    "    # Optimizer.\n",
    "    with tf.name_scope(\"train_step\"):\n",
    "        optimizer = tf.train.GradientDescentOptimizer(0.1).minimize(loss)\n",
    "  \n",
    "    # Predictions for the training, validation, and test data.\n",
    "    with tf.name_scope(\"train_prediction\"):\n",
    "        train_prediction = tf.nn.softmax(logits)\n",
    "    \n",
    "    with tf.name_scope(\"validation_prediction\"):\n",
    "        validation_prediction = tf.nn.softmax(model(tf_valid_dataset))"
   ]
  },
  {
   "cell_type": "markdown",
   "metadata": {},
   "source": [
    "### Graph Excuter Session module"
   ]
  },
  {
   "cell_type": "code",
   "execution_count": 38,
   "metadata": {
    "collapsed": false
   },
   "outputs": [],
   "source": [
    "# use less number of  images initially\n",
    "#train_dataSet = train_dataSet[:1000]\n",
    "#train_labels = train_labels[:1000]"
   ]
  },
  {
   "cell_type": "code",
   "execution_count": 39,
   "metadata": {
    "collapsed": false,
    "scrolled": true
   },
   "outputs": [
    {
     "name": "stdout",
     "output_type": "stream",
     "text": [
      "Initialized\n",
      "Minibatch loss at step 0: 2.305766\n",
      "Minibatch accuracy: 8.2%\n",
      "Minibatch loss at step 50: 2.284896\n",
      "Minibatch accuracy: 10.2%\n",
      "Minibatch loss at step 100: 2.294289\n",
      "Minibatch accuracy: 10.6%\n",
      "Minibatch loss at step 150: 2.283851\n",
      "Minibatch accuracy: 10.0%\n",
      "Minibatch loss at step 200: 2.291031\n",
      "Minibatch accuracy: 11.6%\n",
      "Minibatch loss at step 250: 2.284740\n",
      "Minibatch accuracy: 10.6%\n",
      "Minibatch loss at step 300: 2.293067\n",
      "Minibatch accuracy: 10.2%\n",
      "Minibatch loss at step 350: 2.286912\n",
      "Minibatch accuracy: 11.8%\n",
      "Minibatch loss at step 400: 2.287765\n",
      "Minibatch accuracy: 10.4%\n",
      "Minibatch loss at step 450: 2.287848\n",
      "Minibatch accuracy: 13.2%\n",
      "Minibatch loss at step 500: 2.283175\n",
      "Minibatch accuracy: 11.2%\n",
      "Minibatch loss at step 550: 2.286896\n",
      "Minibatch accuracy: 11.4%\n",
      "Minibatch loss at step 600: 2.280981\n",
      "Minibatch accuracy: 11.2%\n",
      "Minibatch loss at step 650: 2.293067\n",
      "Minibatch accuracy: 13.2%\n",
      "Minibatch loss at step 700: 2.280449\n",
      "Minibatch accuracy: 11.6%\n",
      "Minibatch loss at step 750: 2.293444\n",
      "Minibatch accuracy: 13.4%\n",
      "Minibatch loss at step 800: 2.277709\n",
      "Minibatch accuracy: 11.2%\n",
      "Minibatch loss at step 850: 2.293176\n",
      "Minibatch accuracy: 14.0%\n",
      "Minibatch loss at step 900: 2.276907\n",
      "Minibatch accuracy: 11.6%\n",
      "Minibatch loss at step 950: 2.295199\n",
      "Minibatch accuracy: 12.2%\n",
      "Minibatch loss at step 1000: 2.278758\n",
      "Minibatch accuracy: 11.8%\n",
      "Cross Validation_Set Accuracy: 7.608696%\n"
     ]
    }
   ],
   "source": [
    "num_steps = 1001\n",
    "                                                                                                                                                                                                                                                                                                                                                                                                                                                                                                                                                                                                                                                                                                                                                                                                                                                \n",
    "with tf.Session(graph=graph) as session:\n",
    "    train_writer = tf.train.SummaryWriter(os.path.join(log_path, \"train\"), session.graph)\n",
    "    merged = tf.merge_all_summaries()\n",
    "    tf.global_variables_initializer().run()\n",
    "    print('Initialized')\n",
    "  \n",
    "    for step in range(num_steps):\n",
    "        offset = (step * batch_size) % (train_labels.shape[0] - batch_size)\n",
    "        batch_data = train_dataSet[offset:(offset + batch_size), :, :, :]\n",
    "        batch_labels = train_labels[offset:(offset + batch_size), :]\n",
    "        \n",
    "        feed_dict = {tf_train_dataset : batch_data, tf_train_labels : batch_labels}\n",
    "        _, l, predictions = session.run([optimizer, loss, train_prediction], feed_dict=feed_dict)\n",
    "    \n",
    "        if (step % 50 == 0):\n",
    "            summary = session.run(merged, feed_dict=feed_dict)\n",
    "            train_writer.add_summary(summary, step)\n",
    "            print('Minibatch loss at step %d: %f' % (step, l))\n",
    "            print('Minibatch accuracy: %.1f%%' % accuracy(predictions, batch_labels))\n",
    "            \n",
    "    print('Cross Validation_Set Accuracy: %1f%%' % accuracy(validation_prediction.eval(), cv_labels))"
   ]
  }
 ],
 "metadata": {
  "anaconda-cloud": {},
  "kernelspec": {
   "display_name": "Python [Root]",
   "language": "python",
   "name": "Python [Root]"
  },
  "language_info": {
   "codemirror_mode": {
    "name": "ipython",
    "version": 2
   },
   "file_extension": ".py",
   "mimetype": "text/x-python",
   "name": "python",
   "nbconvert_exporter": "python",
   "pygments_lexer": "ipython2",
   "version": "2.7.12"
  }
 },
 "nbformat": 4,
 "nbformat_minor": 1
}
