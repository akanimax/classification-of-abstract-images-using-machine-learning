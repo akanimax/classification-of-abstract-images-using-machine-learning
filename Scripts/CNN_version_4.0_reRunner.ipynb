{
 "cells": [
  {
   "cell_type": "markdown",
   "metadata": {},
   "source": [
    "CNN version 4.0 This one picks up from previous version and moves further\n",
    "=============\n",
    "Using the preprocessed Data\n",
    "------------\n",
    "\n",
    "Building upon the previous cnn version. \n",
    "\n",
    "This notebook uses a more sophisticated and a deeper cnn than the previous.\n",
    "Use of TensorBoard for visualization"
   ]
  },
  {
   "cell_type": "code",
   "execution_count": 12,
   "metadata": {
    "collapsed": true
   },
   "outputs": [],
   "source": [
    "# These are all the modules we'll be using later. Make sure you can import them\n",
    "# before proceeding further.\n",
    "from __future__ import print_function\n",
    "import os\n",
    "import numpy as np\n",
    "import tensorflow as tf\n",
    "from six.moves import cPickle as pickle\n",
    "from six.moves import range\n",
    "from Helpers.CNN_Creator import *"
   ]
  },
  {
   "cell_type": "markdown",
   "metadata": {},
   "source": [
    "# Task 1: Load the data from the pickle file"
   ]
  },
  {
   "cell_type": "code",
   "execution_count": 2,
   "metadata": {
    "collapsed": true
   },
   "outputs": [],
   "source": [
    "'''Set the constant paths here'''\n",
    "# set the paths required for the script to work:\n",
    "root = \"../Data/\"\n",
    "pickle_file_path = root + \"Data_pindown.pickle\"\n",
    "log_path = root + \"logs\"\n",
    "model_path = os.path.join(root, \"Models/Model1/\")"
   ]
  },
  {
   "cell_type": "markdown",
   "metadata": {},
   "source": [
    "Retrieve the saved data from the pickle file"
   ]
  },
  {
   "cell_type": "code",
   "execution_count": 3,
   "metadata": {
    "collapsed": true
   },
   "outputs": [],
   "source": [
    "Formatted_Data = {}\n",
    "with open(pickle_file_path, \"rb\") as f:\n",
    "    Formatted_Data = pickle.load(f)"
   ]
  },
  {
   "cell_type": "code",
   "execution_count": 4,
   "metadata": {
    "collapsed": false
   },
   "outputs": [
    {
     "data": {
      "text/plain": [
       "7"
      ]
     },
     "execution_count": 4,
     "metadata": {},
     "output_type": "execute_result"
    }
   ],
   "source": [
    "len(Formatted_Data)"
   ]
  },
  {
   "cell_type": "code",
   "execution_count": 5,
   "metadata": {
    "collapsed": false,
    "scrolled": true
   },
   "outputs": [
    {
     "name": "stdout",
     "output_type": "stream",
     "text": [
      "{'Action-Painting': 0, 'Colour-Field-Painting': 1, 'Surreal-Surrealism': 8, 'art--Expressionism': 9, 'Op-Art': 6, 'Hard-Edge-Art': 3, 'ORPHISM': 5, 'Post-impressionism': 7, 'Minimalism-Art': 4, 'Cubism': 2}\n",
      "(1927, 100, 100, 3) (276, 100, 100, 3) (551, 100, 100, 3)\n",
      "(1927, 10) (276, 10) (551, 10)\n"
     ]
    }
   ],
   "source": [
    "# recollect the fragmented data\n",
    "\n",
    "labels_mappings = Formatted_Data['label_mapping']\n",
    "print(labels_mappings)\n",
    "\n",
    "train_dataSet = Formatted_Data['train_data']\n",
    "train_labels  = Formatted_Data['train_labels']\n",
    "\n",
    "cv_dataSet = Formatted_Data['cv_data']\n",
    "cv_labels = Formatted_Data['cv_labels']\n",
    "\n",
    "test_dataSet = Formatted_Data['test_data']\n",
    "test_labels  = Formatted_Data['test_labels']\n",
    "\n",
    "print(train_dataSet.shape, cv_dataSet.shape, test_dataSet.shape)\n",
    "print(train_labels.shape, cv_labels.shape, test_labels.shape)"
   ]
  },
  {
   "cell_type": "code",
   "execution_count": 6,
   "metadata": {
    "collapsed": true
   },
   "outputs": [],
   "source": [
    "full_dataSet = np.vstack((train_dataSet, cv_dataSet, test_dataSet))\n",
    "full_labels = np.vstack((train_labels, cv_labels, test_labels))"
   ]
  },
  {
   "cell_type": "markdown",
   "metadata": {
    "collapsed": true
   },
   "source": [
    "# Task 2: Spawn the CNN "
   ]
  },
  {
   "cell_type": "code",
   "execution_count": 7,
   "metadata": {
    "collapsed": true
   },
   "outputs": [],
   "source": [
    "# The accuracy function to calculate the accuracy of the classifier\n",
    "\n",
    "def accuracy(predictions, labels):\n",
    "    return (100.0 * np.sum(np.argmax(predictions, axis=1) == np.argmax(labels, axis=1)) / predictions.shape[0])"
   ]
  },
  {
   "cell_type": "code",
   "execution_count": 33,
   "metadata": {
    "collapsed": false
   },
   "outputs": [],
   "source": [
    "# define the constants required hence forth:\n",
    "batch_size = 900\n",
    "patch_size = 5\n",
    "num_hidden = 256\n",
    "\n",
    "image_size = train_dataSet.shape[1]\n",
    "num_labels = len(labels_mappings)\n",
    "num_channels = 3 # rgb images"
   ]
  },
  {
   "cell_type": "markdown",
   "metadata": {},
   "source": [
    "### The CNN tensorflow graph "
   ]
  },
  {
   "cell_type": "code",
   "execution_count": 34,
   "metadata": {
    "collapsed": false
   },
   "outputs": [],
   "source": [
    "graph = tf.Graph()\n",
    "\n",
    "''' Neural network name: BotNet\n",
    "    Size: medium\n",
    "    conf: conv => conv => pool => conv => pool => fc => fc => softmax'''\n",
    "\n",
    "with graph.as_default():\n",
    "    \n",
    "    # Input data.\n",
    "    with tf.name_scope(\"INPUTS\"):\n",
    "        tf_train_dataset = tf.placeholder(tf.float32, shape=(batch_size, image_size, image_size, num_channels), name=\"Data\")\n",
    "        tf_train_labels = tf.placeholder(tf.float32, shape=(batch_size, num_labels), name=\"Labels\")\n",
    "\n",
    "        tf_valid_dataset = tf.constant(cv_dataSet[:100], name=\"cross_validation_dataset\")\n",
    "        tf_full_dataset = tf.constant(test_dataSet, name=\"test_dataset\")\n",
    "        \n",
    "    # Model.\n",
    "    def model(data):\n",
    "        # CONV LAYER\n",
    "        # layer has 8 (3 x 3) convoluting filters\n",
    "        layer1_1 = addConvLayer(data, [patch_size, patch_size, num_channels, 8], \n",
    "                                \"lay_1.1_w\", \"lay_1.1_b\", tf.nn.sigmoid)\n",
    "    \n",
    "        \n",
    "        # CONV LAYER  \n",
    "        # layer has 12 (3 x 3) convoluting filters\n",
    "        layer2_1 = addConvLayer(layer1_1, [patch_size, patch_size, 8, 12], \n",
    "                                \"lay_2.1_w\", \"lay_2.1_b\", tf.nn.sigmoid)\n",
    "    \n",
    "    \n",
    "        # CONV LAYER\n",
    "        # layer has 16 (3 x 3) convoluting filters\n",
    "        layer3_1 = addConvLayer(layer2_1, [patch_size, patch_size, 12, 16], \n",
    "                                \"lay_3.1_w\", \"lay_3.1_b\", tf.nn.sigmoid)\n",
    "    \n",
    "        \n",
    "        # POOL LAYER\n",
    "        # will not require any data variable or parameter holder\n",
    "        # a simple 2 x 2 max_pooling operation\n",
    "        layer4_1 = addPoolLayer(layer3_1, [1, 2, 2, 1], [1, 2, 2, 1])\n",
    "        \n",
    "        # CONV LAYER\n",
    "        # layer has 20 (3 x 3) convoluting filters\n",
    "        layer5_1 = addConvLayer(layer4_1, [patch_size, patch_size, 16, 20],\n",
    "                                \"lay_5.1_w\", \"lay_5.1_b\", tf.nn.sigmoid)\n",
    "        \n",
    "        # FC LAYER\n",
    "        # input dimension will be: 8 * 8 * 32\n",
    "        # length, width calculation: 32 =first pool=> 16 =second pool=> 8\n",
    "        # depth calculation: 32 ...(same as the last conv output)\n",
    "        # output dimension: 128 ...(equal to number of hidden cells)\n",
    "        # number of hidden cells: 128\n",
    "        # reshape the tensor before passing it to the FC layers\n",
    "        shape = layer5_1.get_shape().as_list()\n",
    "        reshape = tf.reshape(layer5_1, [shape[0], shape[1] * shape[2] * shape[3]])\n",
    "        layer6_1 = addFCLayer(reshape, [shape[1] * shape[2] * shape[3], num_hidden],\n",
    "                              \"lay_6.1_w\", \"lay_6.1_b\", tf.nn.sigmoid)\n",
    "        \n",
    "        # FC LAYER\n",
    "        # input dimension will be: 256\n",
    "        # output dimension will be: 256\n",
    "        # number of hidden cells: 256\n",
    "        layer7_1 = addFCLayer(layer6_1, [num_hidden, num_hidden],\n",
    "                              \"lay_7.1_w\", \"lay_7.1_b\", tf.nn.sigmoid)\n",
    "        \n",
    "        # Fianl output layer for the neural network\n",
    "        layer8_1 = addFCLayer(layer7_1, [num_hidden, num_labels],\n",
    "                              \"lay_8.1_w\", \"lay_8.1_b\", tf.nn.sigmoid)\n",
    "        \n",
    "        return layer8_1\n",
    "  \n",
    "    # Training computation.\n",
    "    logits = model(tf_train_dataset)\n",
    "    \n",
    "    with tf.name_scope(\"Loss\"):\n",
    "        loss = tf.reduce_mean(tf.nn.softmax_cross_entropy_with_logits(logits, tf_train_labels))\n",
    "        tf.summary.scalar(\"loss\", loss)\n",
    "        \n",
    "    # Optimizer.\n",
    "    with tf.name_scope(\"train_step\"):\n",
    "        optimizer = tf.train.GradientDescentOptimizer(0.1).minimize(loss)\n",
    "  \n",
    "    # Predictions for the training, validation, and test data.\n",
    "    with tf.name_scope(\"train_prediction\"):\n",
    "        train_prediction = tf.nn.softmax(logits)\n",
    "    \n",
    "    with tf.name_scope(\"validation_prediction\"):\n",
    "        test_prediction = tf.nn.softmax(model(tf_full_dataset))"
   ]
  },
  {
   "cell_type": "markdown",
   "metadata": {},
   "source": [
    "### Graph Excuter Session module"
   ]
  },
  {
   "cell_type": "code",
   "execution_count": 37,
   "metadata": {
    "collapsed": false,
    "scrolled": false
   },
   "outputs": [
    {
     "name": "stdout",
     "output_type": "stream",
     "text": [
      "Initialized\n",
      "[[ 0.07529878  0.10404339  0.07514746  0.07512595  0.19676998  0.07511509\n",
      "   0.17197362  0.07533728  0.07607376  0.07511467]\n",
      " [ 0.12470678  0.09548815  0.1017364   0.09610452  0.09541789  0.10092862\n",
      "   0.09550294  0.09919193  0.0954067   0.09551623]\n",
      " [ 0.08167028  0.08274936  0.11171994  0.08149166  0.08151009  0.08149213\n",
      "   0.08149834  0.21919896  0.09692203  0.08174723]]\n",
      "[[ 0.  0.  0.  0.  1.  0.  0.  0.  0.  0.]\n",
      " [ 0.  0.  0.  0.  0.  1.  0.  0.  0.  0.]\n",
      " [ 0.  0.  0.  0.  0.  0.  0.  1.  0.  0.]]\n",
      "Minibatch loss at step 0: 1.612513\n",
      "Minibatch accuracy: 82.2%\n",
      "[[ 0.21128124  0.07895117  0.07896396  0.08619419  0.0949732   0.07894557\n",
      "   0.1338779   0.07893623  0.07893644  0.07894015]\n",
      " [ 0.08697365  0.09242021  0.07541528  0.07541883  0.20310141  0.07541399\n",
      "   0.16373631  0.07560114  0.07650521  0.07541396]\n",
      " [ 0.08991421  0.09430077  0.08445638  0.21983472  0.08432731  0.08959834\n",
      "   0.08447454  0.08432452  0.08432221  0.08444689]]\n",
      "[[ 1.  0.  0.  0.  0.  0.  0.  0.  0.  0.]\n",
      " [ 0.  0.  0.  0.  1.  0.  0.  0.  0.  0.]\n",
      " [ 0.  0.  0.  1.  0.  0.  0.  0.  0.  0.]]\n",
      "Minibatch loss at step 200: 1.562920\n",
      "Minibatch accuracy: 87.3%\n",
      "[[ 0.08089061  0.0805847   0.21358661  0.08051527  0.08050866  0.08239908\n",
      "   0.08050922  0.1236654   0.08054215  0.09679832]\n",
      " [ 0.08762705  0.08494083  0.08625522  0.08581699  0.09360797  0.08463547\n",
      "   0.22316593  0.08466975  0.08464564  0.08463524]\n",
      " [ 0.22458112  0.08339455  0.09958906  0.09085861  0.08346039  0.08360633\n",
      "   0.08402625  0.08341024  0.08339331  0.08368017]]\n",
      "[[ 0.  0.  1.  0.  0.  0.  0.  0.  0.  0.]\n",
      " [ 0.  0.  0.  0.  0.  0.  1.  0.  0.  0.]\n",
      " [ 1.  0.  0.  0.  0.  0.  0.  0.  0.  0.]]\n",
      "Minibatch loss at step 400: 1.558714\n",
      "Minibatch accuracy: 88.2%\n",
      "[[ 0.07823478  0.07596035  0.07580604  0.20363526  0.08179402  0.07592573\n",
      "   0.18124931  0.07579798  0.07579828  0.07579834]\n",
      " [ 0.09370163  0.08568093  0.08500957  0.08501653  0.20523958  0.08502411\n",
      "   0.08849452  0.08503391  0.10175504  0.08504413]\n",
      " [ 0.07663288  0.07954993  0.1165546   0.07661078  0.07662412  0.07662033\n",
      "   0.07661184  0.19726583  0.11533809  0.10819162]]\n",
      "[[ 0.  0.  0.  1.  0.  0.  0.  0.  0.  0.]\n",
      " [ 0.  0.  0.  0.  1.  0.  0.  0.  0.  0.]\n",
      " [ 0.  0.  0.  0.  0.  0.  0.  1.  0.  0.]]\n",
      "Minibatch loss at step 600: 1.573164\n",
      "Minibatch accuracy: 85.8%\n",
      "[[ 0.07842033  0.07914712  0.0863867   0.07835767  0.07860639  0.07835795\n",
      "   0.07836322  0.21241307  0.14902803  0.08091948]\n",
      " [ 0.07389394  0.07345697  0.1023142   0.07317467  0.07323681  0.07317472\n",
      "   0.07318292  0.19730699  0.18544459  0.07481406]\n",
      " [ 0.08062311  0.07865772  0.21015181  0.07865401  0.07864565  0.07983504\n",
      "   0.07864597  0.09992374  0.07865626  0.13620675]]\n",
      "[[ 0.  0.  0.  0.  0.  0.  0.  0.  1.  0.]\n",
      " [ 0.  0.  0.  0.  0.  0.  0.  0.  1.  0.]\n",
      " [ 0.  0.  1.  0.  0.  0.  0.  0.  0.  0.]]\n",
      "Minibatch loss at step 800: 1.575382\n",
      "Minibatch accuracy: 86.1%\n",
      "[[ 0.08465292  0.08621029  0.09017811  0.22715119  0.08457106  0.08881489\n",
      "   0.08469594  0.08456901  0.08456969  0.08458691]\n",
      " [ 0.07794758  0.07526325  0.19714226  0.07520705  0.07520753  0.07525881\n",
      "   0.07520848  0.19605599  0.07623492  0.07647413]\n",
      " [ 0.07988989  0.07868204  0.0785981   0.14997761  0.09306391  0.07859287\n",
      "   0.20543483  0.07858419  0.07859331  0.07858329]]\n",
      "[[ 0.  0.  0.  1.  0.  0.  0.  0.  0.  0.]\n",
      " [ 0.  0.  1.  0.  0.  0.  0.  0.  0.  0.]\n",
      " [ 0.  0.  0.  0.  0.  0.  1.  0.  0.  0.]]\n",
      "Minibatch loss at step 1000: 1.549630\n",
      "Minibatch accuracy: 88.4%\n"
     ]
    }
   ],
   "source": [
    "num_steps = 1001\n",
    "                                                                                                                                                                                                                                                                                                                                                                                                                                                                                                                                                                                                                                                                                                                                                                                                                                                \n",
    "with tf.Session(graph=graph) as session:\n",
    "    saver = tf.train.Saver()\n",
    "    \n",
    "    train_writer = tf.summary.FileWriter(os.path.join(log_path, \"train\"), session.graph)\n",
    "    merged = tf.summary.merge_all()\n",
    "    \n",
    "    # restore the saved model from the path\n",
    "    saver.restore(session, os.path.join(model_path, \"mod_1.ckpt\"))\n",
    "    \n",
    "    print('Initialized')\n",
    "  \n",
    "    for step in range(num_steps):\n",
    "        offset = (step * batch_size) % (train_labels.shape[0] - batch_size)\n",
    "        batch_data = full_dataSet[offset:(offset + batch_size), :, :, :]\n",
    "        batch_labels = full_labels[offset:(offset + batch_size), :]\n",
    "        \n",
    "        feed_dict = {tf_train_dataset : batch_data, tf_train_labels : batch_labels}\n",
    "        _, l, predictions = session.run([optimizer, loss, train_prediction], feed_dict=feed_dict)\n",
    "    \n",
    "        if (step % 200 == 0):\n",
    "            summary = session.run(merged, feed_dict=feed_dict)\n",
    "            train_writer.add_summary(summary, step)\n",
    "            print(predictions[:3])\n",
    "            print(batch_labels[:3])\n",
    "            print('Minibatch loss at step %d: %f' % (step, l))\n",
    "            print('Minibatch accuracy: %.1f%%' % accuracy(predictions, batch_labels))\n",
    "    \n",
    "    # rewrite the previously saved model\n",
    "    saver.save(session, os.path.join(model_path, \"mod_1.ckpt\"))"
   ]
  }
 ],
 "metadata": {
  "anaconda-cloud": {},
  "kernelspec": {
   "display_name": "Python [conda root]",
   "language": "python",
   "name": "conda-root-py"
  },
  "language_info": {
   "codemirror_mode": {
    "name": "ipython",
    "version": 2
   },
   "file_extension": ".py",
   "mimetype": "text/x-python",
   "name": "python",
   "nbconvert_exporter": "python",
   "pygments_lexer": "ipython2",
   "version": "2.7.12"
  }
 },
 "nbformat": 4,
 "nbformat_minor": 1
}
