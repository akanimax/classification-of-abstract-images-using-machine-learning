{
 "cells": [
  {
   "cell_type": "code",
   "execution_count": 1,
   "metadata": {
    "collapsed": true
   },
   "outputs": [],
   "source": [
    "from __future__ import print_function\n",
    "import os\n",
    "import numpy as np\n",
    "import tensorflow as tf\n",
    "from six.moves import cPickle as pickle\n",
    "from six.moves import range"
   ]
  },
  {
   "cell_type": "code",
   "execution_count": 2,
   "metadata": {
    "collapsed": true
   },
   "outputs": [],
   "source": [
    "'''Set the constant paths here'''\n",
    "root = \"/home/akmyths/Project/Data\"\n",
    "path = \"/home/akmyths/Project/Data/Resized_final_data\"\n",
    "csv_path = \"/home/akmyths/Project/Data/train_info.csv\""
   ]
  },
  {
   "cell_type": "code",
   "execution_count": 3,
   "metadata": {
    "collapsed": true
   },
   "outputs": [],
   "source": [
    "pickle_files_names = (\"Data_final.pickle\",)\n",
    "Formatted_Data = []\n",
    "for Dfile in pickle_files_names:\n",
    "    with open(os.path.join(root, Dfile), \"rb\") as f:\n",
    "        Formatted_Data.append(pickle.load(f))"
   ]
  },
  {
   "cell_type": "code",
   "execution_count": 4,
   "metadata": {
    "collapsed": false
   },
   "outputs": [
    {
     "data": {
      "text/plain": [
       "1"
      ]
     },
     "execution_count": 4,
     "metadata": {},
     "output_type": "execute_result"
    }
   ],
   "source": [
    "len(Formatted_Data)"
   ]
  },
  {
   "cell_type": "code",
   "execution_count": 5,
   "metadata": {
    "collapsed": false
   },
   "outputs": [
    {
     "name": "stdout",
     "output_type": "stream",
     "text": [
      "{'cloudscape': 5, 'pastorale': 13, 'allegorical painting': 0, 'mythological painting': 12, 'capriccio': 3, 'genre painting': 7, 'animal painting': 1, 'history painting': 8, 'symbolic painting': 17, 'still life': 16, 'flower painting': 6, 'cityscape': 4, 'illustration': 9, 'marina': 11, 'portrait': 14, 'wildlife painting': 18, 'religious painting': 15, 'landscape': 10, 'battle painting': 2}\n",
      "(164, 100, 100, 3) (24, 100, 100, 3) (47, 100, 100, 3)\n",
      "(164, 19) (24, 19) (47, 19)\n"
     ]
    }
   ],
   "source": [
    "# recollect the fragmented data\n",
    "\n",
    "labels_mappings = Formatted_Data[0]['label_mapping']\n",
    "print(labels_mappings)\n",
    "\n",
    "train_dataSet = Formatted_Data[0]['train_data']\n",
    "train_labels  = Formatted_Data[0]['train_labels']\n",
    "\n",
    "cv_dataSet = Formatted_Data[0]['cv_data']\n",
    "cv_labels = Formatted_Data[0]['cv_labels']\n",
    "\n",
    "test_dataSet = Formatted_Data[0]['test_data']\n",
    "test_labels  = Formatted_Data[0]['test_labels']\n",
    "\n",
    "print(train_dataSet.shape, cv_dataSet.shape, test_dataSet.shape)\n",
    "print(train_labels.shape, cv_labels.shape, test_labels.shape)"
   ]
  },
  {
   "cell_type": "code",
   "execution_count": 6,
   "metadata": {
    "collapsed": true
   },
   "outputs": [],
   "source": [
    "# The accuracy function to calculate the accuracy of the classifier\n",
    "\n",
    "def accuracy(predictions, labels):\n",
    "  return (100.0 * np.sum(np.argmax(predictions, 1) == np.argmax(labels, 1))\n",
    "          / predictions.shape[0])"
   ]
  },
  {
   "cell_type": "code",
   "execution_count": 7,
   "metadata": {
    "collapsed": true
   },
   "outputs": [],
   "source": [
    "batch_size = 16\n",
    "patch_size = 1\n",
    "depth = 5 # number of filters in a layer\n",
    "num_hidden = 128\n",
    "\n",
    "image_size = 100\n",
    "num_labels = 19\n",
    "num_channels = 3 # rgb images"
   ]
  },
  {
   "cell_type": "code",
   "execution_count": 8,
   "metadata": {
    "collapsed": true
   },
   "outputs": [],
   "source": [
    "graph = tf.Graph()\n",
    "\n",
    "with graph.as_default():\n",
    "\n",
    "    # Input data.\n",
    "    tf_train_dataset = tf.placeholder(tf.float32, shape=(batch_size, image_size, image_size, num_channels))\n",
    "    tf_train_labels = tf.placeholder(tf.float32, shape=(batch_size, num_labels))\n",
    "  \n",
    "    tf_valid_dataset = tf.constant(cv_dataSet)\n",
    "    tf_test_dataset = tf.constant(test_dataSet)\n",
    "  \n",
    "    # Variables.\n",
    "    layer1_weights = tf.Variable(tf.truncated_normal([patch_size, patch_size, num_channels, depth], stddev=0.1))\n",
    "    layer1_biases = tf.Variable(tf.zeros([depth]))\n",
    "\n",
    "    layer2_weights = tf.Variable(tf.truncated_normal([patch_size, patch_size, depth, depth], stddev=0.1))\n",
    "    layer2_biases = tf.Variable(tf.constant(1.0, shape=[depth]))\n",
    "  \n",
    "    layer3_weights = tf.Variable(tf.truncated_normal(\n",
    "            [image_size // 4 * image_size // 4 * depth, num_hidden], stddev=0.1))\n",
    "    layer3_biases = tf.Variable(tf.constant(1.0, shape=[num_hidden]))\n",
    "    \n",
    "    layer4_weights = tf.Variable(tf.truncated_normal([num_hidden, num_labels], stddev=0.1))\n",
    "    layer4_biases = tf.Variable(tf.constant(1.0, shape=[num_labels]))\n",
    "  \n",
    "    # Model.\n",
    "    def model(data):\n",
    "        conv = tf.nn.conv2d(data, layer1_weights, [1, 2, 2, 1], padding='SAME')\n",
    "        hidden = tf.nn.relu(conv + layer1_biases)\n",
    "        \n",
    "        conv = tf.nn.conv2d(hidden, layer2_weights, [1, 2, 2, 1], padding='SAME')\n",
    "        hidden = tf.nn.relu(conv + layer2_biases)\n",
    "        \n",
    "        shape = hidden.get_shape().as_list()\n",
    "        reshape = tf.reshape(hidden, [shape[0], shape[1] * shape[2] * shape[3]])\n",
    "        \n",
    "        hidden = tf.nn.relu(tf.matmul(reshape, layer3_weights) + layer3_biases)\n",
    "        return tf.matmul(hidden, layer4_weights) + layer4_biases\n",
    "  \n",
    "    # Training computation.\n",
    "    logits = model(tf_train_dataset)\n",
    "    loss = tf.reduce_mean(tf.nn.softmax_cross_entropy_with_logits(logits, tf_train_labels))\n",
    "    \n",
    "    # Optimizer.\n",
    "    optimizer = tf.train.GradientDescentOptimizer(0.05).minimize(loss)\n",
    "  \n",
    "    # Predictions for the training, validation, and test data.\n",
    "    train_prediction = tf.nn.softmax(logits)\n",
    "    validation_prediction = tf.nn.softmax(model(tf_valid_dataset))"
   ]
  },
  {
   "cell_type": "code",
   "execution_count": 9,
   "metadata": {
    "collapsed": false
   },
   "outputs": [
    {
     "name": "stdout",
     "output_type": "stream",
     "text": [
      "Initialized\n",
      "Minibatch loss at step 0: 12.264135\n",
      "Minibatch accuracy: 0.0%\n",
      "Minibatch loss at step 50: 0.910922\n",
      "Minibatch accuracy: 81.2%\n",
      "Minibatch loss at step 100: 1.580206\n",
      "Minibatch accuracy: 56.2%\n",
      "Minibatch loss at step 150: 1.025993\n",
      "Minibatch accuracy: 81.2%\n",
      "Minibatch loss at step 200: 1.454082\n",
      "Minibatch accuracy: 68.8%\n",
      "Minibatch loss at step 250: 2.043214\n",
      "Minibatch accuracy: 12.5%\n",
      "Minibatch loss at step 300: 0.949405\n",
      "Minibatch accuracy: 81.2%\n",
      "Minibatch loss at step 350: 1.598860\n",
      "Minibatch accuracy: 50.0%\n",
      "Minibatch loss at step 400: 0.770799\n",
      "Minibatch accuracy: 81.2%\n",
      "Minibatch loss at step 450: 1.431759\n",
      "Minibatch accuracy: 68.8%\n",
      "Minibatch loss at step 500: 1.670658\n",
      "Minibatch accuracy: 62.5%\n",
      "Minibatch loss at step 550: 0.607707\n",
      "Minibatch accuracy: 87.5%\n",
      "Minibatch loss at step 600: 1.330982\n",
      "Minibatch accuracy: 56.2%\n",
      "Minibatch loss at step 650: 1.158823\n",
      "Minibatch accuracy: 75.0%\n",
      "Minibatch loss at step 700: 1.538998\n",
      "Minibatch accuracy: 68.8%\n",
      "Minibatch loss at step 750: 2.004541\n",
      "Minibatch accuracy: 50.0%\n",
      "Minibatch loss at step 800: 0.908709\n",
      "Minibatch accuracy: 81.2%\n",
      "Minibatch loss at step 850: 1.724405\n",
      "Minibatch accuracy: 43.8%\n",
      "Minibatch loss at step 900: 0.974465\n",
      "Minibatch accuracy: 81.2%\n",
      "Minibatch loss at step 950: 1.210338\n",
      "Minibatch accuracy: 75.0%\n",
      "Minibatch loss at step 1000: 2.283423\n",
      "Minibatch accuracy: 56.2%\n",
      "Minibatch loss at step 1050: 0.712239\n",
      "Minibatch accuracy: 87.5%\n",
      "Minibatch loss at step 1100: 1.803706\n",
      "Minibatch accuracy: 37.5%\n",
      "Minibatch loss at step 1150: 0.728842\n",
      "Minibatch accuracy: 87.5%\n",
      "Minibatch loss at step 1200: 1.196958\n",
      "Minibatch accuracy: 68.8%\n",
      "Minibatch loss at step 1250: 1.108808\n",
      "Minibatch accuracy: 75.0%\n",
      "Minibatch loss at step 1300: 0.708591\n",
      "Minibatch accuracy: 87.5%\n",
      "Minibatch loss at step 1350: 1.925914\n",
      "Minibatch accuracy: 50.0%\n",
      "Minibatch loss at step 1400: 1.241593\n",
      "Minibatch accuracy: 75.0%\n",
      "Minibatch loss at step 1450: 1.492245\n",
      "Minibatch accuracy: 56.2%\n",
      "Cross_Validation accuracy: 58.3%\n"
     ]
    }
   ],
   "source": [
    "num_steps = 1500\n",
    "\n",
    "with tf.Session(graph=graph) as session:\n",
    "    tf.global_variables_initializer().run()\n",
    "    print('Initialized')\n",
    "  \n",
    "    for step in range(num_steps):\n",
    "        offset = (step * batch_size) % (train_labels.shape[0] - batch_size)\n",
    "        batch_data = train_dataSet[offset:(offset + batch_size), :, :, :]\n",
    "        batch_labels = train_labels[offset:(offset + batch_size), :]\n",
    "        \n",
    "        feed_dict = {tf_train_dataset : batch_data, tf_train_labels : batch_labels}\n",
    "        _, l, predictions = session.run([optimizer, loss, train_prediction], feed_dict=feed_dict)\n",
    "    \n",
    "        if (step % 50 == 0):\n",
    "            print('Minibatch loss at step %d: %f' % (step, l))\n",
    "            print('Minibatch accuracy: %.1f%%' % accuracy(predictions, batch_labels))\n",
    "    \n",
    "    print('Cross_Validation accuracy: %.1f%%' % accuracy(validation_prediction.eval(), cv_labels))"
   ]
  }
 ],
 "metadata": {
  "kernelspec": {
   "display_name": "Python 2",
   "language": "python",
   "name": "python2"
  },
  "language_info": {
   "codemirror_mode": {
    "name": "ipython",
    "version": 2
   },
   "file_extension": ".py",
   "mimetype": "text/x-python",
   "name": "python",
   "nbconvert_exporter": "python",
   "pygments_lexer": "ipython2",
   "version": "2.7.11"
  }
 },
 "nbformat": 4,
 "nbformat_minor": 2
}
