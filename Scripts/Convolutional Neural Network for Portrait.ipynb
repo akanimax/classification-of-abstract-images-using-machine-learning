{
 "cells": [
  {
   "cell_type": "code",
   "execution_count": 1,
   "metadata": {
    "collapsed": true
   },
   "outputs": [],
   "source": [
    "from __future__ import print_function\n",
    "import os\n",
    "import numpy as np\n",
    "import tensorflow as tf\n",
    "from six.moves import cPickle as pickle\n",
    "from six.moves import range"
   ]
  },
  {
   "cell_type": "code",
   "execution_count": 2,
   "metadata": {
    "collapsed": true
   },
   "outputs": [],
   "source": [
    "'''Set the constant paths here'''\n",
    "root = \"/home/akmyths/Project/Data\"\n",
    "path = \"/home/akmyths/Project/Data/Resized_final_data\"\n",
    "csv_path = \"/home/akmyths/Project/Data/train_info.csv\""
   ]
  },
  {
   "cell_type": "code",
   "execution_count": 3,
   "metadata": {
    "collapsed": true
   },
   "outputs": [],
   "source": [
    "pickle_files_names = (\"Data_final.pickle\",)\n",
    "Formatted_Data = []\n",
    "for Dfile in pickle_files_names:\n",
    "    with open(os.path.join(root, Dfile), \"rb\") as f:\n",
    "        Formatted_Data.append(pickle.load(f))"
   ]
  },
  {
   "cell_type": "code",
   "execution_count": 4,
   "metadata": {
    "collapsed": false
   },
   "outputs": [
    {
     "data": {
      "text/plain": [
       "1"
      ]
     },
     "execution_count": 4,
     "metadata": {},
     "output_type": "execute_result"
    }
   ],
   "source": [
    "len(Formatted_Data)"
   ]
  },
  {
   "cell_type": "code",
   "execution_count": 5,
   "metadata": {
    "collapsed": false
   },
   "outputs": [
    {
     "name": "stdout",
     "output_type": "stream",
     "text": [
      "{'abstract': 0, 'history painting': 13, 'marina': 18, 'design': 9, 'portrait': 22, 'landscape': 16, 'symbolic painting': 29, 'allegorical painting': 2, 'miniature': 19, 'sketch and study': 27, 'animal painting': 3, 'nude painting (nu)': 21, 'flower painting': 11, 'battle painting': 4, 'poster': 23, 'interior': 15, 'cloudscape': 8, 'mythological painting': 20, 'genre painting': 12, 'shan shui': 26, 'yakusha-e': 32, 'literary painting': 17, 'illustration': 14, 'caricature': 6, 'advertisement': 1, 'cityscape': 7, 'religious painting': 24, 'bird-and-flower painting': 5, 'still life': 28, 'figurative': 10, 'self-portrait': 25, 'veduta': 30, 'wildlife painting': 31}\n",
      "(516, 100, 100, 3) (74, 100, 100, 3) (148, 100, 100, 3)\n",
      "(516, 33) (74, 33) (148, 33)\n"
     ]
    }
   ],
   "source": [
    "# recollect the fragmented data\n",
    "\n",
    "labels_mappings = Formatted_Data[0]['label_mapping']\n",
    "print(labels_mappings)\n",
    "\n",
    "train_dataSet = Formatted_Data[0]['train_data']\n",
    "train_labels  = Formatted_Data[0]['train_labels']\n",
    "\n",
    "cv_dataSet = Formatted_Data[0]['cv_data']\n",
    "cv_labels = Formatted_Data[0]['cv_labels']\n",
    "\n",
    "test_dataSet = Formatted_Data[0]['test_data']\n",
    "test_labels  = Formatted_Data[0]['test_labels']\n",
    "\n",
    "print(train_dataSet.shape, cv_dataSet.shape, test_dataSet.shape)\n",
    "print(train_labels.shape, cv_labels.shape, test_labels.shape)"
   ]
  },
  {
   "cell_type": "code",
   "execution_count": 6,
   "metadata": {
    "collapsed": true
   },
   "outputs": [],
   "source": [
    "# The accuracy function to calculate the accuracy of the classifier\n",
    "\n",
    "def accuracy(predictions, labels):\n",
    "  return (100.0 * np.sum(np.argmax(predictions, 1) == np.argmax(labels, 1))\n",
    "          / predictions.shape[0])"
   ]
  },
  {
   "cell_type": "code",
   "execution_count": 13,
   "metadata": {
    "collapsed": true
   },
   "outputs": [],
   "source": [
    "batch_size = 16\n",
    "patch_size = 5\n",
    "depth = 16 # number of filters in a layer\n",
    "num_hidden = 256\n",
    "\n",
    "image_size = 100\n",
    "num_labels = 33\n",
    "num_channels = 3 # rgb images"
   ]
  },
  {
   "cell_type": "code",
   "execution_count": 14,
   "metadata": {
    "collapsed": true
   },
   "outputs": [],
   "source": [
    "graph = tf.Graph()\n",
    "\n",
    "with graph.as_default():\n",
    "\n",
    "    # Input data.\n",
    "    tf_train_dataset = tf.placeholder(tf.float32, shape=(batch_size, image_size, image_size, num_channels))\n",
    "    tf_train_labels = tf.placeholder(tf.float32, shape=(batch_size, num_labels))\n",
    "  \n",
    "    tf_valid_dataset = tf.constant(cv_dataSet)\n",
    "    tf_test_dataset = tf.constant(test_dataSet)\n",
    "  \n",
    "    # Variables.\n",
    "    layer1_weights = tf.Variable(tf.truncated_normal([patch_size, patch_size, num_channels, depth], stddev=0.1))\n",
    "    layer1_biases = tf.Variable(tf.zeros([depth]))\n",
    "\n",
    "    layer2_weights = tf.Variable(tf.truncated_normal([patch_size, patch_size, depth, depth], stddev=0.1))\n",
    "    layer2_biases = tf.Variable(tf.constant(1.0, shape=[depth]))\n",
    "  \n",
    "    layer3_weights = tf.Variable(tf.truncated_normal(\n",
    "            [image_size // 4 * image_size // 4 * depth, num_hidden], stddev=0.1))\n",
    "    layer3_biases = tf.Variable(tf.constant(1.0, shape=[num_hidden]))\n",
    "    \n",
    "    layer4_weights = tf.Variable(tf.truncated_normal([num_hidden, num_labels], stddev=0.1))\n",
    "    layer4_biases = tf.Variable(tf.constant(1.0, shape=[num_labels]))\n",
    "  \n",
    "    # Model.\n",
    "    def model(data):\n",
    "        conv = tf.nn.conv2d(data, layer1_weights, [1, 2, 2, 1], padding='SAME')\n",
    "        hidden = tf.nn.relu(conv + layer1_biases)\n",
    "        \n",
    "        conv = tf.nn.conv2d(hidden, layer2_weights, [1, 2, 2, 1], padding='SAME')\n",
    "        hidden = tf.nn.relu(conv + layer2_biases)\n",
    "        \n",
    "        shape = hidden.get_shape().as_list()\n",
    "        reshape = tf.reshape(hidden, [shape[0], shape[1] * shape[2] * shape[3]])\n",
    "        \n",
    "        hidden = tf.nn.relu(tf.matmul(reshape, layer3_weights) + layer3_biases)\n",
    "        return tf.matmul(hidden, layer4_weights) + layer4_biases\n",
    "  \n",
    "    # Training computation.\n",
    "    logits = model(tf_train_dataset)\n",
    "    loss = tf.reduce_mean(tf.nn.softmax_cross_entropy_with_logits(logits, tf_train_labels))\n",
    "    \n",
    "    # Optimizer.\n",
    "    optimizer = tf.train.GradientDescentOptimizer(0.05).minimize(loss)\n",
    "  \n",
    "    # Predictions for the training, validation, and test data.\n",
    "    train_prediction = tf.nn.softmax(logits)\n",
    "    validation_prediction = tf.nn.softmax(model(tf_valid_dataset))"
   ]
  },
  {
   "cell_type": "code",
   "execution_count": 15,
   "metadata": {
    "collapsed": false
   },
   "outputs": [
    {
     "name": "stdout",
     "output_type": "stream",
     "text": [
      "Initialized\n",
      "Minibatch loss at step 0: 8.764420\n",
      "Minibatch accuracy: 6.2%\n",
      "Minibatch loss at step 50: 3.087005\n",
      "Minibatch accuracy: 37.5%\n",
      "Minibatch loss at step 100: 3.655488\n",
      "Minibatch accuracy: 31.2%\n",
      "Minibatch loss at step 150: 3.925866\n",
      "Minibatch accuracy: 6.2%\n",
      "Minibatch loss at step 200: 3.291370\n",
      "Minibatch accuracy: 18.8%\n",
      "Minibatch loss at step 250: 5.081890\n",
      "Minibatch accuracy: 6.2%\n",
      "Minibatch loss at step 300: 3.613737\n",
      "Minibatch accuracy: 0.0%\n",
      "Minibatch loss at step 350: 2.863400\n",
      "Minibatch accuracy: 31.2%\n",
      "Minibatch loss at step 400: 4.101360\n",
      "Minibatch accuracy: 6.2%\n",
      "Minibatch loss at step 450: 5.040809\n",
      "Minibatch accuracy: 6.2%\n",
      "Minibatch loss at step 500: 4.183412\n",
      "Minibatch accuracy: 6.2%\n",
      "Minibatch loss at step 550: 4.522226\n",
      "Minibatch accuracy: 0.0%\n",
      "Minibatch loss at step 600: 2.635675\n",
      "Minibatch accuracy: 31.2%\n",
      "Minibatch loss at step 650: 3.791253\n",
      "Minibatch accuracy: 6.2%\n",
      "Minibatch loss at step 700: 4.532957\n",
      "Minibatch accuracy: 6.2%\n",
      "Minibatch loss at step 750: 3.524948\n",
      "Minibatch accuracy: 6.2%\n",
      "Minibatch loss at step 800: 2.794227\n",
      "Minibatch accuracy: 37.5%\n",
      "Minibatch loss at step 850: 2.584163\n",
      "Minibatch accuracy: 31.2%\n",
      "Minibatch loss at step 900: 3.470116\n",
      "Minibatch accuracy: 6.2%\n",
      "Minibatch loss at step 950: 4.041940\n",
      "Minibatch accuracy: 6.2%\n",
      "Minibatch loss at step 1000: 3.099026\n",
      "Minibatch accuracy: 6.2%\n",
      "Minibatch loss at step 1050: 2.806680\n",
      "Minibatch accuracy: 37.5%\n",
      "Minibatch loss at step 1100: 2.587752\n",
      "Minibatch accuracy: 25.0%\n",
      "Minibatch loss at step 1150: 3.226624\n",
      "Minibatch accuracy: 6.2%\n",
      "Minibatch loss at step 1200: 3.240524\n",
      "Minibatch accuracy: 6.2%\n",
      "Minibatch loss at step 1250: 2.891487\n",
      "Minibatch accuracy: 6.2%\n",
      "Minibatch loss at step 1300: 2.744167\n",
      "Minibatch accuracy: 37.5%\n",
      "Minibatch loss at step 1350: 2.626925\n",
      "Minibatch accuracy: 25.0%\n",
      "Minibatch loss at step 1400: 3.108625\n",
      "Minibatch accuracy: 6.2%\n",
      "Minibatch loss at step 1450: 3.077527\n",
      "Minibatch accuracy: 6.2%\n",
      "Minibatch loss at step 1500: 2.722332\n",
      "Minibatch accuracy: 6.2%\n",
      "Cross_Validation accuracy: 41.9%\n"
     ]
    }
   ],
   "source": [
    "num_steps = 1501\n",
    "\n",
    "with tf.Session(graph=graph) as session:\n",
    "    tf.global_variables_initializer().run()\n",
    "    print('Initialized')\n",
    "  \n",
    "    for step in range(num_steps):\n",
    "        offset = (step * batch_size) % (train_labels.shape[0] - batch_size)\n",
    "        batch_data = train_dataSet[offset:(offset + batch_size), :, :, :]\n",
    "        batch_labels = train_labels[offset:(offset + batch_size), :]\n",
    "        \n",
    "        feed_dict = {tf_train_dataset : batch_data, tf_train_labels : batch_labels}\n",
    "        _, l, predictions = session.run([optimizer, loss, train_prediction], feed_dict=feed_dict)\n",
    "    \n",
    "        if (step % 50 == 0):\n",
    "            print('Minibatch loss at step %d: %f' % (step, l))\n",
    "            print('Minibatch accuracy: %.1f%%' % accuracy(predictions, batch_labels))\n",
    "    \n",
    "    print('Cross_Validation accuracy: %.1f%%' % accuracy(validation_prediction.eval(), cv_labels))"
   ]
  }
 ],
 "metadata": {
  "kernelspec": {
   "display_name": "Python 2",
   "language": "python",
   "name": "python2"
  },
  "language_info": {
   "codemirror_mode": {
    "name": "ipython",
    "version": 2
   },
   "file_extension": ".py",
   "mimetype": "text/x-python",
   "name": "python",
   "nbconvert_exporter": "python",
   "pygments_lexer": "ipython2",
   "version": "2.7.11"
  }
 },
 "nbformat": 4,
 "nbformat_minor": 2
}
