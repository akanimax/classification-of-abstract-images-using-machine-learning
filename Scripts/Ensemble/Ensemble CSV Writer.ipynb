{
 "cells": [
  {
   "cell_type": "markdown",
   "metadata": {},
   "source": [
    "# Script to create the ensemble csv"
   ]
  },
  {
   "cell_type": "markdown",
   "metadata": {},
   "source": [
    "## Loading the models "
   ]
  },
  {
   "cell_type": "code",
   "execution_count": 1,
   "metadata": {
    "collapsed": false
   },
   "outputs": [
    {
     "name": "stderr",
     "output_type": "stream",
     "text": [
      "Using TensorFlow backend.\n"
     ]
    }
   ],
   "source": [
    "import csv\n",
    "import collections\n",
    "from cnn_predictor import *\n",
    "from Dnn_classify import *\n",
    "from GetFeatures  import *"
   ]
  },
  {
   "cell_type": "markdown",
   "metadata": {},
   "source": [
    "## Function to populate the csv"
   ]
  },
  {
   "cell_type": "code",
   "execution_count": 2,
   "metadata": {
    "collapsed": true
   },
   "outputs": [],
   "source": [
    " def addtoCSV(csventry):\n",
    "        with open('ensemble.csv', 'a') as f:\n",
    "            writer = csv.writer(f)\n",
    "            writer.writerow(csventry)"
   ]
  },
  {
   "cell_type": "markdown",
   "metadata": {},
   "source": [
    "## Function to return CNN probabilities"
   ]
  },
  {
   "cell_type": "code",
   "execution_count": 3,
   "metadata": {
    "collapsed": true
   },
   "outputs": [],
   "source": [
    "def CnnOutput(path):\n",
    "    val1=dict(get_predictions(path))\n",
    "    val1['ActionPainting']=val1['Action-Painting']\n",
    "    val1['Expressionism']=val1['art--Expressionism']\n",
    "    del val1['Action-Painting']\n",
    "    del val1['art--Expressionism']\n",
    "    cnnOp=CreateSortedList(val1)\n",
    "    return cnnOp"
   ]
  },
  {
   "cell_type": "markdown",
   "metadata": {},
   "source": [
    "## Function to return DNN probabilities"
   ]
  },
  {
   "cell_type": "code",
   "execution_count": 4,
   "metadata": {
    "collapsed": true
   },
   "outputs": [],
   "source": [
    "def DnnOutput(path):\n",
    "    obj1=GetFeatures(path)\n",
    "    obj1.returnFeatures()\n",
    "    val2=obj.returnProbabilities(obj1.features)\n",
    "    temp=Convert(val2)\n",
    "    dnnOp=CreateSortedList(val2)\n",
    "    return dnnOp"
   ]
  },
  {
   "cell_type": "markdown",
   "metadata": {},
   "source": [
    "## Helper function to convert unicode keys in DNN to string"
   ]
  },
  {
   "cell_type": "code",
   "execution_count": 5,
   "metadata": {
    "collapsed": true
   },
   "outputs": [],
   "source": [
    "def Convert(data):\n",
    "    if isinstance(data, basestring):\n",
    "        return str(data)\n",
    "    elif isinstance(data, collections.Mapping):\n",
    "        return dict(map(Convert, data.iteritems()))\n",
    "    elif isinstance(data, collections.Iterable):\n",
    "        return type(data)(map(Convert, data))\n",
    "    else:\n",
    "        return data"
   ]
  },
  {
   "cell_type": "markdown",
   "metadata": {},
   "source": [
    "## Function to return a sorted list"
   ]
  },
  {
   "cell_type": "code",
   "execution_count": 6,
   "metadata": {
    "collapsed": true
   },
   "outputs": [],
   "source": [
    "def CreateSortedList(inp):\n",
    "    od = collections.OrderedDict(sorted(inp.items()))\n",
    "    retList=[]\n",
    "    for k, v in od.iteritems():\n",
    "        retList.append(v)\n",
    "    return retList"
   ]
  },
  {
   "cell_type": "markdown",
   "metadata": {},
   "source": [
    "## Function to create the CSV Entries"
   ]
  },
  {
   "cell_type": "code",
   "execution_count": 7,
   "metadata": {
    "collapsed": true
   },
   "outputs": [],
   "source": [
    "def Orchestrate(path,style):\n",
    "    cnn=CnnOutput(path)\n",
    "    dnn=DnnOutput(path)\n",
    "    csventry=[]\n",
    "    for val in cnn:\n",
    "        csventry.append(val)\n",
    "    for val in dnn:\n",
    "        csventry.append(val)\n",
    "        \n",
    "    csventry.append(style)\n",
    "    addtoCSV(csventry)"
   ]
  },
  {
   "cell_type": "markdown",
   "metadata": {},
   "source": [
    "## Using the functions "
   ]
  },
  {
   "cell_type": "code",
   "execution_count": 8,
   "metadata": {
    "collapsed": false
   },
   "outputs": [
    {
     "name": "stdout",
     "output_type": "stream",
     "text": [
      "Working on : ./Media/ActionPainting\n",
      "./Media/ActionPainting/0ca90866efcd775b8d92676cf03fb3f9.jpg\n",
      "1/1 [==============================] - 0s\n",
      "./Media/ActionPainting/0cdc56687a273ce0772e0b9aaa6d419b.jpg\n",
      "1/1 [==============================] - 0s\n",
      "Working on : ./Media/Colour-Field-Painting\n",
      "./Media/Colour-Field-Painting/0a7424721cec499e23d5bbb00c4b2d54.jpg\n",
      "1/1 [==============================] - 0s\n",
      "./Media/Colour-Field-Painting/0abc315ce19187e43e9f06b1234b4717.jpg\n",
      "1/1 [==============================] - 0s\n",
      "./Media/Colour-Field-Painting/0c6c9dd690650997e1bb5d9972f10a4f.jpg\n",
      "1/1 [==============================] - 0s\n",
      "Working on : ./Media/Cubism\n",
      "./Media/Cubism/0a152a16e15ad96e81789a678927c3c6.jpg\n",
      "1/1 [==============================] - 0s\n",
      "./Media/Cubism/0a258c012658e0df9c1fef81c47a7a04.jpg\n",
      "1/1 [==============================] - 0s\n",
      "Working on : ./Media/Expressionism\n",
      "./Media/Expressionism/0a0ffa0b5ce4249cac149f06303aa277.jpg\n",
      "1/1 [==============================] - 0s\n",
      "./Media/Expressionism/0b32ba56e73947a8331ac9bbe5440255.jpg\n",
      "1/1 [==============================] - 0s\n",
      "./Media/Expressionism/0cf702dcae51ab190f9987dd2202321c.jpg\n",
      "1/1 [==============================] - 0s\n",
      "Working on : ./Media/Hard-Edge-Art\n",
      "./Media/Hard-Edge-Art/0a10102b685acf13fc647d8b53e919ed.jpg\n",
      "1/1 [==============================] - 0s\n",
      "./Media/Hard-Edge-Art/0a8fc9168f7b2ded7c4f43dad1c071a8.jpg\n",
      "1/1 [==============================] - 0s\n",
      "Working on : ./Media/Minimalism-Art\n",
      "./Media/Minimalism-Art/0a08925c7b89698a5b17d5de261737c7.jpg\n",
      "1/1 [==============================] - 0s\n",
      "./Media/Minimalism-Art/0a92d002189c4cba92d24df11edc3235.jpg\n",
      "1/1 [==============================] - 0s\n",
      "Working on : ./Media/ORPHISM\n",
      "./Media/ORPHISM/0bcdb3b3d038cf0229c6d13eaf00a530.jpg\n",
      "1/1 [==============================] - 0s\n",
      "./Media/ORPHISM/0dcd2a352b8fa971a63dab2c827135f1.jpg\n",
      "1/1 [==============================] - 0s\n",
      "Working on : ./Media/Op-Art\n",
      "./Media/Op-Art/0a3fb23ebafb8d47d6b0002fadb729bb.jpg\n",
      "1/1 [==============================] - 0s\n",
      "./Media/Op-Art/0a44da7ad5526b0de22b9a4ea686cf3a.jpg\n",
      "1/1 [==============================] - 0s\n",
      "Working on : ./Media/Post-impressionism\n",
      "./Media/Post-impressionism/0ae52032afed54b6753e64086719d6d3.jpg\n",
      "1/1 [==============================] - 0s\n",
      "./Media/Post-impressionism/0b153f45be24526872328b059991e1b2.jpg\n",
      "1/1 [==============================] - 0s\n",
      "./Media/Post-impressionism/0e9d601a2b4555807d1298321514c59a.jpg\n",
      "1/1 [==============================] - 0s\n",
      "./Media/Post-impressionism/0f09f8c29c172c2a42267dffd174df49.jpg\n",
      "1/1 [==============================] - 0s\n",
      "Working on : ./Media/Surreal-Surrealism\n",
      "./Media/Surreal-Surrealism/1c1470fe1951b06c3816f0ee0304e167.jpg\n",
      "1/1 [==============================] - 0s\n",
      "./Media/Surreal-Surrealism/1cce8f92c1a3c14d29891eaf64bc5852.jpg\n",
      "1/1 [==============================] - 0s\n"
     ]
    }
   ],
   "source": [
    "dataset=\"./Media/\"\n",
    "\n",
    "class_names=sorted(os.listdir(dataset))\n",
    "for classname in class_names:\n",
    "    dirpath=dataset+classname\n",
    "    print \"Working on : \"+ dirpath\n",
    "    images = sorted(os.listdir(dirpath))\n",
    "    for image in images:\n",
    "        imgPath=dirpath+\"/\"+image\n",
    "        print imgPath\n",
    "        Orchestrate(imgPath,classname)"
   ]
  },
  {
   "cell_type": "code",
   "execution_count": null,
   "metadata": {
    "collapsed": true
   },
   "outputs": [],
   "source": []
  }
 ],
 "metadata": {
  "kernelspec": {
   "display_name": "Python 2",
   "language": "python",
   "name": "python2"
  },
  "language_info": {
   "codemirror_mode": {
    "name": "ipython",
    "version": 2
   },
   "file_extension": ".py",
   "mimetype": "text/x-python",
   "name": "python",
   "nbconvert_exporter": "python",
   "pygments_lexer": "ipython2",
   "version": "2.7.11"
  }
 },
 "nbformat": 4,
 "nbformat_minor": 2
}
