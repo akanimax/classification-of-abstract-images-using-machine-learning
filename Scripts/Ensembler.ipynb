{
 "cells": [
  {
   "cell_type": "code",
   "execution_count": 89,
   "metadata": {
    "collapsed": false
   },
   "outputs": [],
   "source": [
    "from cnn_predictor import *\n",
    "from Dnn_classify import *\n",
    "from GetFeatures  import *"
   ]
  },
  {
   "cell_type": "code",
   "execution_count": 90,
   "metadata": {
    "collapsed": false
   },
   "outputs": [
    {
     "name": "stdout",
     "output_type": "stream",
     "text": [
      "(100, 100, 3)\n",
      "{'ActionPainting': 0.076321989, 'Colour-Field-Painting': 0.12444612, 'Surreal-Surrealism': 0.080397725, 'Op-Art': 0.066950962, 'Hard-Edge-Art': 0.068479002, 'Expressionism': 0.14752986, 'ORPHISM': 0.072078213, 'Post-impressionism': 0.14709154, 'Minimalism-Art': 0.066968352, 'Cubism': 0.14973632}\n"
     ]
    }
   ],
   "source": [
    "val1=dict(get_predictions(\"2.jpg\"))\n",
    "\n",
    "val1['ActionPainting']=val1['Action-Painting']\n",
    "val1['Expressionism']=val1['art--Expressionism']\n",
    "del val1['Action-Painting']\n",
    "del val1['art--Expressionism']\n",
    "print val1\n"
   ]
  },
  {
   "cell_type": "code",
   "execution_count": 91,
   "metadata": {
    "collapsed": false
   },
   "outputs": [
    {
     "name": "stdout",
     "output_type": "stream",
     "text": [
      "/home/ccenter/new/17-02-2017_clone/BE/Scripts/2.jpg\n",
      "[157, 8, 8, 119, 9, 25, 34, 2]\n"
     ]
    }
   ],
   "source": [
    "obj1=GetFeatures(\"2.jpg\")\n",
    "obj1.returnFeatures()\n",
    "print(obj1.features)"
   ]
  },
  {
   "cell_type": "code",
   "execution_count": 92,
   "metadata": {
    "collapsed": false
   },
   "outputs": [
    {
     "name": "stdout",
     "output_type": "stream",
     "text": [
      "1/1 [==============================] - 0s\n",
      "[[ 0.23882179  0.04311322  0.07048515  0.17003603  0.00919508  0.07777596\n",
      "   0.04251593  0.01940957  0.24146716  0.08718006]]\n",
      "{u'ActionPainting': 0.23882179, u'Colour-Field-Painting': 0.043113217, u'Surreal-Surrealism': 0.087180056, u'Op-Art': 0.019409575, u'Hard-Edge-Art': 0.0091950791, u'Expressionism': 0.17003603, u'ORPHISM': 0.042515934, u'Post-impressionism': 0.24146716, u'Minimalism-Art': 0.077775955, u'Cubism': 0.070485152}\n"
     ]
    }
   ],
   "source": [
    "val2=obj.returnProbabilities(obj1.features)"
   ]
  },
  {
   "cell_type": "code",
   "execution_count": 93,
   "metadata": {
    "collapsed": true
   },
   "outputs": [],
   "source": [
    "def average(dict1,dict2):\n",
    "    dict3={}\n",
    "    for key in dict2.keys():\n",
    "        dict3[key]=(0.7*dict1[key]+0.3*dict2[key])\n",
    "    return dict3\n",
    "        "
   ]
  },
  {
   "cell_type": "code",
   "execution_count": 94,
   "metadata": {
    "collapsed": false
   },
   "outputs": [
    {
     "data": {
      "text/plain": [
       "[(u'Post-impressionism', 0.17540422528982161),\n",
       " (u'Expressionism', 0.15428170859813689),\n",
       " (u'Cubism', 0.12596096619963645)]"
      ]
     },
     "execution_count": 94,
     "metadata": {},
     "output_type": "execute_result"
    }
   ],
   "source": [
    "\n",
    "dic = average(val1,val2)\n",
    "\n",
    "sorted([(k, dic[k]) for k in dic.keys()], key=lambda x: x[1], reverse=True)[:3]\n",
    "\n"
   ]
  },
  {
   "cell_type": "code",
   "execution_count": null,
   "metadata": {
    "collapsed": true
   },
   "outputs": [],
   "source": []
  },
  {
   "cell_type": "code",
   "execution_count": null,
   "metadata": {
    "collapsed": true
   },
   "outputs": [],
   "source": []
  }
 ],
 "metadata": {
  "anaconda-cloud": {},
  "kernelspec": {
   "display_name": "Python [conda root]",
   "language": "python",
   "name": "conda-root-py"
  },
  "language_info": {
   "codemirror_mode": {
    "name": "ipython",
    "version": 2
   },
   "file_extension": ".py",
   "mimetype": "text/x-python",
   "name": "python",
   "nbconvert_exporter": "python",
   "pygments_lexer": "ipython2",
   "version": "2.7.12"
  }
 },
 "nbformat": 4,
 "nbformat_minor": 1
}
