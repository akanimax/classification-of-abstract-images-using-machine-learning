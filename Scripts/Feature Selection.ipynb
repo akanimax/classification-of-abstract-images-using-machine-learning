{
 "cells": [
  {
   "cell_type": "markdown",
   "metadata": {},
   "source": [
    "# Feature Selection using concepts from [this](http://scikit-learn.org/stable/modules/feature_selection.html#removing-features-with-low-variance) and [this](http://machinelearningmastery.com/feature-selection-machine-learning-python/) site "
   ]
  },
  {
   "cell_type": "code",
   "execution_count": 1,
   "metadata": {
    "collapsed": true
   },
   "outputs": [],
   "source": [
    "import pandas\n",
    "from pandas import read_csv\n",
    "from sklearn.feature_selection import RFE\n",
    "from sklearn.linear_model import LogisticRegression\n",
    "from sklearn.decomposition import PCA\n",
    "from sklearn.ensemble import ExtraTreesClassifier\n",
    "from sklearn.feature_selection import SelectKBest\n",
    "from sklearn.feature_selection import chi2\n",
    "from sklearn.feature_selection import VarianceThreshold\n",
    "from sklearn.preprocessing import LabelEncoder\n",
    "import numpy "
   ]
  },
  {
   "cell_type": "markdown",
   "metadata": {
    "collapsed": false
   },
   "source": [
    "## Loading the data"
   ]
  },
  {
   "cell_type": "code",
   "execution_count": 2,
   "metadata": {
    "collapsed": false
   },
   "outputs": [
    {
     "name": "stdout",
     "output_type": "stream",
     "text": [
      "(2785, 9)\n"
     ]
    },
    {
     "data": {
      "text/plain": [
       "['edge_count',\n",
       " 'pentagons',\n",
       " 'triangles',\n",
       " 'squares',\n",
       " 'circles',\n",
       " 'halfcircles',\n",
       " 'blob_count',\n",
       " 'color_count',\n",
       " 'class']"
      ]
     },
     "execution_count": 2,
     "metadata": {},
     "output_type": "execute_result"
    }
   ],
   "source": [
    "dataset = pandas.read_csv(\"./features_with_headers.csv\")\n",
    "print(dataset.shape)\n",
    "features = list(dataset.columns.values)\n",
    "features"
   ]
  },
  {
   "cell_type": "code",
   "execution_count": 3,
   "metadata": {
    "collapsed": false
   },
   "outputs": [
    {
     "data": {
      "text/html": [
       "<div>\n",
       "<table border=\"1\" class=\"dataframe\">\n",
       "  <thead>\n",
       "    <tr style=\"text-align: right;\">\n",
       "      <th></th>\n",
       "      <th>edge_count</th>\n",
       "      <th>pentagons</th>\n",
       "      <th>triangles</th>\n",
       "      <th>squares</th>\n",
       "      <th>circles</th>\n",
       "      <th>halfcircles</th>\n",
       "      <th>blob_count</th>\n",
       "      <th>color_count</th>\n",
       "    </tr>\n",
       "  </thead>\n",
       "  <tbody>\n",
       "    <tr>\n",
       "      <th>0</th>\n",
       "      <td>986</td>\n",
       "      <td>61</td>\n",
       "      <td>86</td>\n",
       "      <td>641</td>\n",
       "      <td>53</td>\n",
       "      <td>252</td>\n",
       "      <td>178</td>\n",
       "      <td>2</td>\n",
       "    </tr>\n",
       "    <tr>\n",
       "      <th>1</th>\n",
       "      <td>217</td>\n",
       "      <td>10</td>\n",
       "      <td>11</td>\n",
       "      <td>360</td>\n",
       "      <td>8</td>\n",
       "      <td>84</td>\n",
       "      <td>30</td>\n",
       "      <td>3</td>\n",
       "    </tr>\n",
       "  </tbody>\n",
       "</table>\n",
       "</div>"
      ],
      "text/plain": [
       "   edge_count  pentagons  triangles  squares  circles  halfcircles  \\\n",
       "0         986         61         86      641       53          252   \n",
       "1         217         10         11      360        8           84   \n",
       "\n",
       "   blob_count  color_count  \n",
       "0         178            2  \n",
       "1          30            3  "
      ]
     },
     "execution_count": 3,
     "metadata": {},
     "output_type": "execute_result"
    }
   ],
   "source": [
    "features.remove(\"class\")\n",
    "X=dataset[features]\n",
    "X[:2]"
   ]
  },
  {
   "cell_type": "code",
   "execution_count": 4,
   "metadata": {
    "collapsed": false
   },
   "outputs": [
    {
     "data": {
      "text/plain": [
       "array([6, 6, 2, ..., 7, 3, 2])"
      ]
     },
     "execution_count": 4,
     "metadata": {},
     "output_type": "execute_result"
    }
   ],
   "source": [
    "le =LabelEncoder()\n",
    "Y = le.fit_transform(dataset['class'])\n",
    "Y"
   ]
  },
  {
   "cell_type": "markdown",
   "metadata": {},
   "source": [
    "##  Recursive feature elimination"
   ]
  },
  {
   "cell_type": "code",
   "execution_count": 5,
   "metadata": {
    "collapsed": false
   },
   "outputs": [
    {
     "name": "stdout",
     "output_type": "stream",
     "text": [
      "Num Features: 3\n",
      "Selected Features: [False  True False False False False  True  True]\n",
      "Feature Ranking: [5 1 2 6 3 4 1 1]\n"
     ]
    }
   ],
   "source": [
    "model = LogisticRegression()\n",
    "rfe = RFE(model, 3)\n",
    "fit = rfe.fit(X, Y)\n",
    "print(\"Num Features: %d\") % fit.n_features_\n",
    "print(\"Selected Features: %s\") % fit.support_\n",
    "print(\"Feature Ranking: %s\") % fit.ranking_"
   ]
  },
  {
   "cell_type": "markdown",
   "metadata": {},
   "source": [
    "## Principal Component Analysis"
   ]
  },
  {
   "cell_type": "code",
   "execution_count": 6,
   "metadata": {
    "collapsed": false
   },
   "outputs": [
    {
     "name": "stdout",
     "output_type": "stream",
     "text": [
      "Explained Variance: [ 0.77565207  0.203751    0.01435521]\n",
      "[[  5.76642214e-01   2.70005517e-02   2.92523910e-02   7.89640086e-01\n",
      "    3.10978745e-02   1.80485680e-01   9.39436024e-02   8.54144313e-06]\n",
      " [  7.93543203e-01   1.09189888e-02   1.17983390e-02  -6.01644946e-01\n",
      "    2.29658720e-03   5.68540300e-02   6.94007117e-02  -6.93764275e-05]\n",
      " [ -1.94123153e-01   1.37929179e-01   1.79998007e-01  -1.13321023e-01\n",
      "    1.04182347e-01   7.55352332e-01   5.62707404e-01   2.74940630e-04]]\n"
     ]
    }
   ],
   "source": [
    "pca = PCA(n_components=3)\n",
    "fit = pca.fit(X)\n",
    "# summarize components\n",
    "print(\"Explained Variance: %s\") % fit.explained_variance_ratio_\n",
    "print(fit.components_)"
   ]
  },
  {
   "cell_type": "markdown",
   "metadata": {},
   "source": [
    "## Feature Importance"
   ]
  },
  {
   "cell_type": "code",
   "execution_count": 7,
   "metadata": {
    "collapsed": false
   },
   "outputs": [
    {
     "name": "stdout",
     "output_type": "stream",
     "text": [
      "[ 0.18307776  0.11050935  0.11881409  0.12935678  0.11747446  0.14978981\n",
      "  0.14570256  0.0452752 ]\n"
     ]
    }
   ],
   "source": [
    "model = ExtraTreesClassifier()\n",
    "model.fit(X, Y)\n",
    "print(model.feature_importances_)"
   ]
  },
  {
   "cell_type": "markdown",
   "metadata": {},
   "source": [
    "##  Univariate Selection"
   ]
  },
  {
   "cell_type": "code",
   "execution_count": 8,
   "metadata": {
    "collapsed": false
   },
   "outputs": [
    {
     "name": "stdout",
     "output_type": "stream",
     "text": [
      "[  5.838e+05   2.207e+04   3.546e+04   6.217e+05   2.474e+04   1.427e+05\n",
      "   9.529e+04   7.608e+01]\n",
      "[[986 641 252 178]\n",
      " [217 360  84  30]\n",
      " [507  12  41  16]\n",
      " [258 102  36   3]\n",
      " [ 15   0   1   0]\n",
      " [876 356 154 115]]\n"
     ]
    }
   ],
   "source": [
    "test = SelectKBest(score_func=chi2, k=4)\n",
    "fit = test.fit(X, Y)\n",
    "# summarize scores\n",
    "numpy.set_printoptions(precision=3)\n",
    "print(fit.scores_)\n",
    "features = fit.transform(X)\n",
    "# summarize selected features\n",
    "print(features[0:6,:])"
   ]
  },
  {
   "cell_type": "markdown",
   "metadata": {},
   "source": [
    "## Removing features with low variance"
   ]
  },
  {
   "cell_type": "code",
   "execution_count": 9,
   "metadata": {
    "collapsed": false
   },
   "outputs": [
    {
     "data": {
      "text/plain": [
       "array([[ 986,   61,   86, ...,  252,  178,    2],\n",
       "       [ 217,   10,   11, ...,   84,   30,    3],\n",
       "       [ 507,    3,    1, ...,   41,   16,    2],\n",
       "       ..., \n",
       "       [ 289,    1,    0, ...,   10,    5,    1],\n",
       "       [1126,   58,   68, ...,  303,  151,    2],\n",
       "       [ 269,   10,    6, ...,   59,   23,    1]])"
      ]
     },
     "execution_count": 9,
     "metadata": {},
     "output_type": "execute_result"
    }
   ],
   "source": [
    "sel = VarianceThreshold(threshold=(.8 * (1 - .8)))\n",
    "sel.fit_transform(X)"
   ]
  }
 ],
 "metadata": {
  "kernelspec": {
   "display_name": "Python 2",
   "language": "python",
   "name": "python2"
  },
  "language_info": {
   "codemirror_mode": {
    "name": "ipython",
    "version": 2
   },
   "file_extension": ".py",
   "mimetype": "text/x-python",
   "name": "python",
   "nbconvert_exporter": "python",
   "pygments_lexer": "ipython2",
   "version": "2.7.11"
  }
 },
 "nbformat": 4,
 "nbformat_minor": 2
}
