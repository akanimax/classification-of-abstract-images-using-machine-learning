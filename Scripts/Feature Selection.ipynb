{
 "cells": [
  {
   "cell_type": "markdown",
   "metadata": {},
   "source": [
    "# Feature Selection using concepts from [this](http://scikit-learn.org/stable/modules/feature_selection.html#removing-features-with-low-variance) and [this](http://machinelearningmastery.com/feature-selection-machine-learning-python/) site "
   ]
  },
  {
   "cell_type": "code",
   "execution_count": 1,
   "metadata": {
    "collapsed": true
   },
   "outputs": [],
   "source": [
    "import pandas\n",
    "from pandas import read_csv\n",
    "from sklearn.feature_selection import RFE\n",
    "from sklearn.linear_model import LogisticRegression\n",
    "from sklearn.decomposition import PCA\n",
    "from sklearn.ensemble import ExtraTreesClassifier\n",
    "from sklearn.feature_selection import SelectKBest\n",
    "from sklearn.feature_selection import chi2\n",
    "from sklearn.feature_selection import VarianceThreshold\n",
    "import numpy "
   ]
  },
  {
   "cell_type": "code",
   "execution_count": 2,
   "metadata": {
    "collapsed": false
   },
   "outputs": [],
   "source": [
    "names = ['edge_count','Pentagons','Triangles','Squares','Circle','HalfCircles','STYLE']\n",
    "dataset = pandas.read_csv(\"final.csv\", names=names)"
   ]
  },
  {
   "cell_type": "code",
   "execution_count": 3,
   "metadata": {
    "collapsed": true
   },
   "outputs": [],
   "source": [
    "# Split-out validation dataset\n",
    "array = dataset.values\n",
    "#Extracting the data features\n",
    "X = array[:,0:6]\n",
    "\n",
    "#Creating label array\n",
    "Y = array[:,6]\n"
   ]
  },
  {
   "cell_type": "markdown",
   "metadata": {},
   "source": [
    "##  Recursive feature elimination"
   ]
  },
  {
   "cell_type": "code",
   "execution_count": 4,
   "metadata": {
    "collapsed": false
   },
   "outputs": [
    {
     "name": "stdout",
     "output_type": "stream",
     "text": [
      "Num Features: 3\n",
      "Selected Features: [False  True False False  True  True]\n",
      "Feature Ranking: [3 1 2 4 1 1]\n"
     ]
    }
   ],
   "source": [
    "model = LogisticRegression()\n",
    "rfe = RFE(model, 3)\n",
    "fit = rfe.fit(X, Y)\n",
    "print(\"Num Features: %d\") % fit.n_features_\n",
    "print(\"Selected Features: %s\") % fit.support_\n",
    "print(\"Feature Ranking: %s\") % fit.ranking_"
   ]
  },
  {
   "cell_type": "markdown",
   "metadata": {},
   "source": [
    "## Principal Component Analysis"
   ]
  },
  {
   "cell_type": "code",
   "execution_count": 5,
   "metadata": {
    "collapsed": false
   },
   "outputs": [
    {
     "name": "stdout",
     "output_type": "stream",
     "text": [
      "Explained Variance: [ 0.88614694  0.10627074  0.00667554]\n",
      "[[ 0.49622896  0.02169217  0.02046038  0.84761601  0.03321113  0.18251512]\n",
      " [-0.83309823 -0.01984062 -0.02191307  0.52577002 -0.02303145 -0.16765724]\n",
      " [ 0.24433406 -0.11021018 -0.12527079  0.07121203 -0.14583545 -0.9413409 ]]\n"
     ]
    }
   ],
   "source": [
    "pca = PCA(n_components=3)\n",
    "fit = pca.fit(X)\n",
    "# summarize components\n",
    "print(\"Explained Variance: %s\") % fit.explained_variance_ratio_\n",
    "print(fit.components_)"
   ]
  },
  {
   "cell_type": "markdown",
   "metadata": {},
   "source": [
    "## Feature Importance"
   ]
  },
  {
   "cell_type": "code",
   "execution_count": 6,
   "metadata": {
    "collapsed": false
   },
   "outputs": [
    {
     "name": "stdout",
     "output_type": "stream",
     "text": [
      "[ 0.24214763  0.12944489  0.1298218   0.14837885  0.14960963  0.2005972 ]\n"
     ]
    }
   ],
   "source": [
    "model = ExtraTreesClassifier()\n",
    "model.fit(X, Y)\n",
    "print(model.feature_importances_)"
   ]
  },
  {
   "cell_type": "markdown",
   "metadata": {},
   "source": [
    "##  Univariate Selection"
   ]
  },
  {
   "cell_type": "code",
   "execution_count": 7,
   "metadata": {
    "collapsed": false
   },
   "outputs": [
    {
     "name": "stdout",
     "output_type": "stream",
     "text": [
      "[ 82632.408   2232.008   2307.303  92321.41    3328.157  23473.658]\n",
      "[[  1.927e+03   5.880e+03   1.180e+02   6.020e+02]\n",
      " [  2.670e+02   8.400e+01   8.000e+00   4.500e+01]\n",
      " [  4.380e+02   2.800e+02   2.000e+01   1.100e+02]\n",
      " [  3.890e+02   3.110e+02   1.500e+01   1.130e+02]\n",
      " [  2.600e+01   3.000e+01   3.000e+00   1.900e+01]\n",
      " [  2.350e+02   6.100e+01   5.000e+00   9.000e+00]]\n"
     ]
    }
   ],
   "source": [
    "test = SelectKBest(score_func=chi2, k=4)\n",
    "fit = test.fit(X, Y)\n",
    "# summarize scores\n",
    "numpy.set_printoptions(precision=3)\n",
    "print(fit.scores_)\n",
    "features = fit.transform(X)\n",
    "# summarize selected features\n",
    "print(features[0:6,:])"
   ]
  },
  {
   "cell_type": "markdown",
   "metadata": {},
   "source": [
    "## Removing features with low variance"
   ]
  },
  {
   "cell_type": "code",
   "execution_count": 8,
   "metadata": {
    "collapsed": false
   },
   "outputs": [
    {
     "data": {
      "text/plain": [
       "array([[  1.927e+03,   9.700e+01,   4.700e+01,   5.880e+03,   1.180e+02,\n",
       "          6.020e+02],\n",
       "       [  2.670e+02,   6.000e+00,   5.000e+00,   8.400e+01,   8.000e+00,\n",
       "          4.500e+01],\n",
       "       [  4.380e+02,   1.600e+01,   1.100e+01,   2.800e+02,   2.000e+01,\n",
       "          1.100e+02],\n",
       "       ..., \n",
       "       [  4.020e+02,   7.000e+00,   7.000e+00,   1.440e+02,   8.000e+00,\n",
       "          5.800e+01],\n",
       "       [  7.770e+02,   3.000e+00,   6.000e+00,   1.940e+02,   1.100e+01,\n",
       "          7.800e+01],\n",
       "       [  1.940e+02,   3.000e+00,   1.000e+01,   1.030e+02,   7.000e+00,\n",
       "          3.700e+01]])"
      ]
     },
     "execution_count": 8,
     "metadata": {},
     "output_type": "execute_result"
    }
   ],
   "source": [
    "sel = VarianceThreshold(threshold=(.8 * (1 - .8)))\n",
    "sel.fit_transform(X)"
   ]
  }
 ],
 "metadata": {
  "kernelspec": {
   "display_name": "Python 2",
   "language": "python",
   "name": "python2"
  },
  "language_info": {
   "codemirror_mode": {
    "name": "ipython",
    "version": 2
   },
   "file_extension": ".py",
   "mimetype": "text/x-python",
   "name": "python",
   "nbconvert_exporter": "python",
   "pygments_lexer": "ipython2",
   "version": "2.7.11"
  }
 },
 "nbformat": 4,
 "nbformat_minor": 2
}
