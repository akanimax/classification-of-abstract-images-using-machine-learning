{
 "cells": [
  {
   "cell_type": "markdown",
   "metadata": {},
   "source": [
    "# Tensorflow DNN Model for Classification"
   ]
  },
  {
   "cell_type": "code",
   "execution_count": 1,
   "metadata": {
    "collapsed": false
   },
   "outputs": [],
   "source": [
    "import pandas\n",
    "from sklearn.model_selection import train_test_split \n",
    "from pandas.tools.plotting import scatter_matrix\n",
    "import matplotlib.pyplot as plt\n",
    "from sklearn.preprocessing import LabelEncoder\n",
    "import tensorflow as tf\n",
    "from sklearn import metrics\n",
    "import numpy\n",
    "import matplotlib.pyplot as plt\n",
    "import seaborn as sns\n",
    "from sklearn.model_selection import cross_val_score\n",
    "from sklearn.model_selection import KFold\n",
    "from sklearn.preprocessing import LabelEncoder\n",
    "from sklearn.pipeline import Pipeline\n",
    "\n",
    "%matplotlib inline\n",
    "tf.logging.set_verbosity(tf.logging.ERROR)\n",
    "\n",
    "import warnings\n",
    "warnings.filterwarnings(\"ignore\")"
   ]
  },
  {
   "cell_type": "markdown",
   "metadata": {},
   "source": [
    "## Loading the data"
   ]
  },
  {
   "cell_type": "code",
   "execution_count": 2,
   "metadata": {
    "collapsed": false
   },
   "outputs": [
    {
     "name": "stdout",
     "output_type": "stream",
     "text": [
      "(2785, 9)\n"
     ]
    }
   ],
   "source": [
    "dataset = pandas.read_csv(\"./features_with_headers.csv\")\n",
    "print(dataset.shape)"
   ]
  },
  {
   "cell_type": "markdown",
   "metadata": {
    "collapsed": false
   },
   "source": [
    "## Displaying the statistics of images based on classes"
   ]
  },
  {
   "cell_type": "code",
   "execution_count": 3,
   "metadata": {
    "collapsed": false
   },
   "outputs": [
    {
     "name": "stdout",
     "output_type": "stream",
     "text": [
      "class\n",
      "ActionPainting           298\n",
      "Colour-Field-Painting    297\n",
      "Cubism                   289\n",
      "Expressionism            299\n",
      "Hard-Edge-Art            299\n",
      "Minimalism-Art           247\n",
      "ORPHISM                  214\n",
      "Op-Art                   246\n",
      "Post-impressionism       296\n",
      "Surreal-Surrealism       300\n",
      "dtype: int64\n"
     ]
    }
   ],
   "source": [
    "print(dataset.groupby(\"class\").size())  "
   ]
  },
  {
   "cell_type": "markdown",
   "metadata": {
    "collapsed": true
   },
   "source": [
    "## A peak into the constituent elements"
   ]
  },
  {
   "cell_type": "code",
   "execution_count": 4,
   "metadata": {
    "collapsed": false
   },
   "outputs": [
    {
     "data": {
      "text/html": [
       "<div>\n",
       "<table border=\"1\" class=\"dataframe\">\n",
       "  <thead>\n",
       "    <tr style=\"text-align: right;\">\n",
       "      <th></th>\n",
       "      <th>edge_count</th>\n",
       "      <th>pentagons</th>\n",
       "      <th>triangles</th>\n",
       "      <th>squares</th>\n",
       "      <th>circles</th>\n",
       "      <th>halfcircles</th>\n",
       "      <th>blob_count</th>\n",
       "      <th>color_count</th>\n",
       "      <th>class</th>\n",
       "    </tr>\n",
       "  </thead>\n",
       "  <tbody>\n",
       "    <tr>\n",
       "      <th>0</th>\n",
       "      <td>986</td>\n",
       "      <td>61</td>\n",
       "      <td>86</td>\n",
       "      <td>641</td>\n",
       "      <td>53</td>\n",
       "      <td>252</td>\n",
       "      <td>178</td>\n",
       "      <td>2</td>\n",
       "      <td>ORPHISM</td>\n",
       "    </tr>\n",
       "    <tr>\n",
       "      <th>1</th>\n",
       "      <td>217</td>\n",
       "      <td>10</td>\n",
       "      <td>11</td>\n",
       "      <td>360</td>\n",
       "      <td>8</td>\n",
       "      <td>84</td>\n",
       "      <td>30</td>\n",
       "      <td>3</td>\n",
       "      <td>ORPHISM</td>\n",
       "    </tr>\n",
       "    <tr>\n",
       "      <th>2</th>\n",
       "      <td>507</td>\n",
       "      <td>3</td>\n",
       "      <td>1</td>\n",
       "      <td>12</td>\n",
       "      <td>3</td>\n",
       "      <td>41</td>\n",
       "      <td>16</td>\n",
       "      <td>2</td>\n",
       "      <td>Cubism</td>\n",
       "    </tr>\n",
       "    <tr>\n",
       "      <th>3</th>\n",
       "      <td>258</td>\n",
       "      <td>12</td>\n",
       "      <td>11</td>\n",
       "      <td>102</td>\n",
       "      <td>15</td>\n",
       "      <td>36</td>\n",
       "      <td>3</td>\n",
       "      <td>2</td>\n",
       "      <td>Colour-Field-Painting</td>\n",
       "    </tr>\n",
       "    <tr>\n",
       "      <th>4</th>\n",
       "      <td>15</td>\n",
       "      <td>0</td>\n",
       "      <td>0</td>\n",
       "      <td>0</td>\n",
       "      <td>0</td>\n",
       "      <td>1</td>\n",
       "      <td>0</td>\n",
       "      <td>1</td>\n",
       "      <td>Hard-Edge-Art</td>\n",
       "    </tr>\n",
       "    <tr>\n",
       "      <th>5</th>\n",
       "      <td>876</td>\n",
       "      <td>19</td>\n",
       "      <td>25</td>\n",
       "      <td>356</td>\n",
       "      <td>23</td>\n",
       "      <td>154</td>\n",
       "      <td>115</td>\n",
       "      <td>1</td>\n",
       "      <td>Cubism</td>\n",
       "    </tr>\n",
       "    <tr>\n",
       "      <th>6</th>\n",
       "      <td>381</td>\n",
       "      <td>10</td>\n",
       "      <td>7</td>\n",
       "      <td>28</td>\n",
       "      <td>2</td>\n",
       "      <td>18</td>\n",
       "      <td>53</td>\n",
       "      <td>3</td>\n",
       "      <td>Minimalism-Art</td>\n",
       "    </tr>\n",
       "    <tr>\n",
       "      <th>7</th>\n",
       "      <td>1099</td>\n",
       "      <td>8</td>\n",
       "      <td>6</td>\n",
       "      <td>290</td>\n",
       "      <td>9</td>\n",
       "      <td>56</td>\n",
       "      <td>11</td>\n",
       "      <td>3</td>\n",
       "      <td>Hard-Edge-Art</td>\n",
       "    </tr>\n",
       "    <tr>\n",
       "      <th>8</th>\n",
       "      <td>740</td>\n",
       "      <td>14</td>\n",
       "      <td>7</td>\n",
       "      <td>828</td>\n",
       "      <td>35</td>\n",
       "      <td>309</td>\n",
       "      <td>95</td>\n",
       "      <td>3</td>\n",
       "      <td>Expressionism</td>\n",
       "    </tr>\n",
       "    <tr>\n",
       "      <th>9</th>\n",
       "      <td>189</td>\n",
       "      <td>8</td>\n",
       "      <td>17</td>\n",
       "      <td>131</td>\n",
       "      <td>2</td>\n",
       "      <td>44</td>\n",
       "      <td>33</td>\n",
       "      <td>3</td>\n",
       "      <td>Cubism</td>\n",
       "    </tr>\n",
       "  </tbody>\n",
       "</table>\n",
       "</div>"
      ],
      "text/plain": [
       "   edge_count  pentagons  triangles  squares  circles  halfcircles  \\\n",
       "0         986         61         86      641       53          252   \n",
       "1         217         10         11      360        8           84   \n",
       "2         507          3          1       12        3           41   \n",
       "3         258         12         11      102       15           36   \n",
       "4          15          0          0        0        0            1   \n",
       "5         876         19         25      356       23          154   \n",
       "6         381         10          7       28        2           18   \n",
       "7        1099          8          6      290        9           56   \n",
       "8         740         14          7      828       35          309   \n",
       "9         189          8         17      131        2           44   \n",
       "\n",
       "   blob_count  color_count                  class  \n",
       "0         178            2                ORPHISM  \n",
       "1          30            3                ORPHISM  \n",
       "2          16            2                 Cubism  \n",
       "3           3            2  Colour-Field-Painting  \n",
       "4           0            1          Hard-Edge-Art  \n",
       "5         115            1                 Cubism  \n",
       "6          53            3         Minimalism-Art  \n",
       "7          11            3          Hard-Edge-Art  \n",
       "8          95            3          Expressionism  \n",
       "9          33            3                 Cubism  "
      ]
     },
     "execution_count": 4,
     "metadata": {},
     "output_type": "execute_result"
    }
   ],
   "source": [
    "array=dataset.values\n",
    "dataset.head(10)"
   ]
  },
  {
   "cell_type": "markdown",
   "metadata": {},
   "source": [
    "## Loading the features"
   ]
  },
  {
   "cell_type": "code",
   "execution_count": 5,
   "metadata": {
    "collapsed": false
   },
   "outputs": [
    {
     "data": {
      "text/plain": [
       "['edge_count',\n",
       " 'pentagons',\n",
       " 'triangles',\n",
       " 'squares',\n",
       " 'circles',\n",
       " 'halfcircles',\n",
       " 'blob_count',\n",
       " 'color_count',\n",
       " 'class']"
      ]
     },
     "execution_count": 5,
     "metadata": {},
     "output_type": "execute_result"
    }
   ],
   "source": [
    "features = list(dataset.columns.values)\n",
    "features"
   ]
  },
  {
   "cell_type": "code",
   "execution_count": 6,
   "metadata": {
    "collapsed": false
   },
   "outputs": [
    {
     "data": {
      "text/html": [
       "<div>\n",
       "<table border=\"1\" class=\"dataframe\">\n",
       "  <thead>\n",
       "    <tr style=\"text-align: right;\">\n",
       "      <th></th>\n",
       "      <th>edge_count</th>\n",
       "      <th>pentagons</th>\n",
       "      <th>triangles</th>\n",
       "      <th>squares</th>\n",
       "      <th>circles</th>\n",
       "      <th>halfcircles</th>\n",
       "      <th>blob_count</th>\n",
       "      <th>color_count</th>\n",
       "    </tr>\n",
       "  </thead>\n",
       "  <tbody>\n",
       "    <tr>\n",
       "      <th>0</th>\n",
       "      <td>986</td>\n",
       "      <td>61</td>\n",
       "      <td>86</td>\n",
       "      <td>641</td>\n",
       "      <td>53</td>\n",
       "      <td>252</td>\n",
       "      <td>178</td>\n",
       "      <td>2</td>\n",
       "    </tr>\n",
       "    <tr>\n",
       "      <th>1</th>\n",
       "      <td>217</td>\n",
       "      <td>10</td>\n",
       "      <td>11</td>\n",
       "      <td>360</td>\n",
       "      <td>8</td>\n",
       "      <td>84</td>\n",
       "      <td>30</td>\n",
       "      <td>3</td>\n",
       "    </tr>\n",
       "  </tbody>\n",
       "</table>\n",
       "</div>"
      ],
      "text/plain": [
       "   edge_count  pentagons  triangles  squares  circles  halfcircles  \\\n",
       "0         986         61         86      641       53          252   \n",
       "1         217         10         11      360        8           84   \n",
       "\n",
       "   blob_count  color_count  \n",
       "0         178            2  \n",
       "1          30            3  "
      ]
     },
     "execution_count": 6,
     "metadata": {},
     "output_type": "execute_result"
    }
   ],
   "source": [
    "features.remove(\"class\")\n",
    "x=dataset[features]\n",
    "x[:2]"
   ]
  },
  {
   "cell_type": "markdown",
   "metadata": {
    "collapsed": false
   },
   "source": [
    "## Encoding the labels"
   ]
  },
  {
   "cell_type": "code",
   "execution_count": 7,
   "metadata": {
    "collapsed": false
   },
   "outputs": [
    {
     "data": {
      "text/plain": [
       "array([6, 6, 2, ..., 7, 3, 2])"
      ]
     },
     "execution_count": 7,
     "metadata": {},
     "output_type": "execute_result"
    }
   ],
   "source": [
    "le =LabelEncoder()\n",
    "y = le.fit_transform(dataset['class'])\n",
    "y"
   ]
  },
  {
   "cell_type": "markdown",
   "metadata": {},
   "source": [
    "## Test Train Splitting"
   ]
  },
  {
   "cell_type": "code",
   "execution_count": 8,
   "metadata": {
    "collapsed": false
   },
   "outputs": [
    {
     "name": "stdout",
     "output_type": "stream",
     "text": [
      "X_train = (2228, 8), y_train = (2228,)\n",
      "X_test = (557, 8), y_test = (557,)\n"
     ]
    }
   ],
   "source": [
    "X_train, X_test, y_train, y_test = train_test_split(x, y, test_size=0.2, random_state=32)\n",
    "\n",
    "print(\"X_train = {}, y_train = {}\".format(X_train.shape, y_train.shape))\n",
    "print(\"X_test = {}, y_test = {}\".format(X_test.shape, y_test.shape))"
   ]
  },
  {
   "cell_type": "markdown",
   "metadata": {},
   "source": [
    "## Defining the model"
   ]
  },
  {
   "cell_type": "markdown",
   "metadata": {},
   "source": [
    "### PS: A deep network is yielding a lower accuracy  "
   ]
  },
  {
   "cell_type": "code",
   "execution_count": 9,
   "metadata": {
    "collapsed": true
   },
   "outputs": [],
   "source": [
    "feature_columns = [tf.contrib.layers.real_valued_column(\"\", dimension=X_train.shape[1])]\n",
    "classifier = tf.contrib.learn.DNNClassifier(feature_columns=feature_columns,\n",
    "                                            hidden_units=[10,10],\n",
    "                                            n_classes=10,model_dir=\"./model\")"
   ]
  },
  {
   "cell_type": "markdown",
   "metadata": {},
   "source": [
    "## Training the model"
   ]
  },
  {
   "cell_type": "code",
   "execution_count": 10,
   "metadata": {
    "collapsed": false
   },
   "outputs": [],
   "source": [
    "wrap = classifier.fit(X_train, y_train, batch_size=15, steps=5000)"
   ]
  },
  {
   "cell_type": "markdown",
   "metadata": {
    "collapsed": true
   },
   "source": [
    "## Fetching the accuracy"
   ]
  },
  {
   "cell_type": "code",
   "execution_count": 11,
   "metadata": {
    "collapsed": false
   },
   "outputs": [
    {
     "name": "stdout",
     "output_type": "stream",
     "text": [
      "Accuracy: 0.199282\n"
     ]
    }
   ],
   "source": [
    "score = metrics.accuracy_score(y_test, list(classifier.predict(X_test)))\n",
    "print('Accuracy: {0:f}'.format(score))"
   ]
  },
  {
   "cell_type": "code",
   "execution_count": null,
   "metadata": {
    "collapsed": true
   },
   "outputs": [],
   "source": []
  }
 ],
 "metadata": {
  "kernelspec": {
   "display_name": "Python 2",
   "language": "python",
   "name": "python2"
  },
  "language_info": {
   "codemirror_mode": {
    "name": "ipython",
    "version": 2
   },
   "file_extension": ".py",
   "mimetype": "text/x-python",
   "name": "python",
   "nbconvert_exporter": "python",
   "pygments_lexer": "ipython2",
   "version": "2.7.11"
  }
 },
 "nbformat": 4,
 "nbformat_minor": 2
}
